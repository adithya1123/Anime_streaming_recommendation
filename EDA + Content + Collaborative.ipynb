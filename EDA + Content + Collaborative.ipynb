{
 "cells": [
  {
   "cell_type": "code",
   "execution_count": 57,
   "metadata": {
    "id": "rTZbc-tvYuRo"
   },
   "outputs": [],
   "source": [
    "import numpy as np\n",
    "import pandas as pd\n",
    "import re\n",
    "from scipy.sparse import csr_matrix\n",
    "\n",
    "import matplotlib.pyplot as plt\n",
    "from matplotlib.pyplot import MultipleLocator\n",
    "from matplotlib import colors\n",
    "from collections import defaultdict\n",
    "\n",
    "from sklearn.preprocessing import LabelBinarizer, MultiLabelBinarizer, MinMaxScaler\n",
    "from sklearn.feature_extraction.text import TfidfVectorizer\n",
    "from sklearn.neighbors import NearestNeighbors\n"
   ]
  },
  {
   "cell_type": "code",
   "execution_count": 2,
   "metadata": {
    "id": "3pmabhiADXee"
   },
   "outputs": [],
   "source": [
    "anime = pd.read_csv(\"/Users/adithyaabhishek/Desktop/USML/project/report/data/anime.csv\", dtype=str) \n",
    "usecols = ['MAL_ID', 'Name', 'sypnopsis']\n",
    "anime_desc = pd.read_csv('/Users/adithyaabhishek/Desktop/USML/project/report/data/anime_with_synopsis.csv', usecols=usecols)\n"
   ]
  },
  {
   "cell_type": "code",
   "execution_count": 3,
   "metadata": {
    "colab": {
     "base_uri": "https://localhost:8080/",
     "height": 733
    },
    "id": "RXL0RjD5UIeV",
    "outputId": "571df469-9d37-4a70-ef81-835592f1d86e"
   },
   "outputs": [
    {
     "data": {
      "text/html": [
       "<div>\n",
       "<style scoped>\n",
       "    .dataframe tbody tr th:only-of-type {\n",
       "        vertical-align: middle;\n",
       "    }\n",
       "\n",
       "    .dataframe tbody tr th {\n",
       "        vertical-align: top;\n",
       "    }\n",
       "\n",
       "    .dataframe thead th {\n",
       "        text-align: right;\n",
       "    }\n",
       "</style>\n",
       "<table border=\"1\" class=\"dataframe\">\n",
       "  <thead>\n",
       "    <tr style=\"text-align: right;\">\n",
       "      <th></th>\n",
       "      <th>MAL_ID</th>\n",
       "      <th>Name</th>\n",
       "      <th>Score</th>\n",
       "      <th>Genres</th>\n",
       "      <th>English name</th>\n",
       "      <th>Japanese name</th>\n",
       "      <th>Type</th>\n",
       "      <th>Episodes</th>\n",
       "      <th>Aired</th>\n",
       "      <th>Premiered</th>\n",
       "      <th>...</th>\n",
       "      <th>Score-10</th>\n",
       "      <th>Score-9</th>\n",
       "      <th>Score-8</th>\n",
       "      <th>Score-7</th>\n",
       "      <th>Score-6</th>\n",
       "      <th>Score-5</th>\n",
       "      <th>Score-4</th>\n",
       "      <th>Score-3</th>\n",
       "      <th>Score-2</th>\n",
       "      <th>Score-1</th>\n",
       "    </tr>\n",
       "  </thead>\n",
       "  <tbody>\n",
       "    <tr>\n",
       "      <th>0</th>\n",
       "      <td>1</td>\n",
       "      <td>Cowboy Bebop</td>\n",
       "      <td>8.78</td>\n",
       "      <td>Action, Adventure, Comedy, Drama, Sci-Fi, Space</td>\n",
       "      <td>Cowboy Bebop</td>\n",
       "      <td>カウボーイビバップ</td>\n",
       "      <td>TV</td>\n",
       "      <td>26</td>\n",
       "      <td>Apr 3, 1998 to Apr 24, 1999</td>\n",
       "      <td>Spring 1998</td>\n",
       "      <td>...</td>\n",
       "      <td>229170.0</td>\n",
       "      <td>182126.0</td>\n",
       "      <td>131625.0</td>\n",
       "      <td>62330.0</td>\n",
       "      <td>20688.0</td>\n",
       "      <td>8904.0</td>\n",
       "      <td>3184.0</td>\n",
       "      <td>1357.0</td>\n",
       "      <td>741.0</td>\n",
       "      <td>1580.0</td>\n",
       "    </tr>\n",
       "    <tr>\n",
       "      <th>1</th>\n",
       "      <td>5</td>\n",
       "      <td>Cowboy Bebop: Tengoku no Tobira</td>\n",
       "      <td>8.39</td>\n",
       "      <td>Action, Drama, Mystery, Sci-Fi, Space</td>\n",
       "      <td>Cowboy Bebop:The Movie</td>\n",
       "      <td>カウボーイビバップ 天国の扉</td>\n",
       "      <td>Movie</td>\n",
       "      <td>1</td>\n",
       "      <td>Sep 1, 2001</td>\n",
       "      <td>Unknown</td>\n",
       "      <td>...</td>\n",
       "      <td>30043.0</td>\n",
       "      <td>49201.0</td>\n",
       "      <td>49505.0</td>\n",
       "      <td>22632.0</td>\n",
       "      <td>5805.0</td>\n",
       "      <td>1877.0</td>\n",
       "      <td>577.0</td>\n",
       "      <td>221.0</td>\n",
       "      <td>109.0</td>\n",
       "      <td>379.0</td>\n",
       "    </tr>\n",
       "    <tr>\n",
       "      <th>2</th>\n",
       "      <td>6</td>\n",
       "      <td>Trigun</td>\n",
       "      <td>8.24</td>\n",
       "      <td>Action, Sci-Fi, Adventure, Comedy, Drama, Shounen</td>\n",
       "      <td>Trigun</td>\n",
       "      <td>トライガン</td>\n",
       "      <td>TV</td>\n",
       "      <td>26</td>\n",
       "      <td>Apr 1, 1998 to Sep 30, 1998</td>\n",
       "      <td>Spring 1998</td>\n",
       "      <td>...</td>\n",
       "      <td>50229.0</td>\n",
       "      <td>75651.0</td>\n",
       "      <td>86142.0</td>\n",
       "      <td>49432.0</td>\n",
       "      <td>15376.0</td>\n",
       "      <td>5838.0</td>\n",
       "      <td>1965.0</td>\n",
       "      <td>664.0</td>\n",
       "      <td>316.0</td>\n",
       "      <td>533.0</td>\n",
       "    </tr>\n",
       "    <tr>\n",
       "      <th>3</th>\n",
       "      <td>7</td>\n",
       "      <td>Witch Hunter Robin</td>\n",
       "      <td>7.27</td>\n",
       "      <td>Action, Mystery, Police, Supernatural, Drama, ...</td>\n",
       "      <td>Witch Hunter Robin</td>\n",
       "      <td>Witch Hunter ROBIN (ウイッチハンターロビン)</td>\n",
       "      <td>TV</td>\n",
       "      <td>26</td>\n",
       "      <td>Jul 2, 2002 to Dec 24, 2002</td>\n",
       "      <td>Summer 2002</td>\n",
       "      <td>...</td>\n",
       "      <td>2182.0</td>\n",
       "      <td>4806.0</td>\n",
       "      <td>10128.0</td>\n",
       "      <td>11618.0</td>\n",
       "      <td>5709.0</td>\n",
       "      <td>2920.0</td>\n",
       "      <td>1083.0</td>\n",
       "      <td>353.0</td>\n",
       "      <td>164.0</td>\n",
       "      <td>131.0</td>\n",
       "    </tr>\n",
       "    <tr>\n",
       "      <th>4</th>\n",
       "      <td>8</td>\n",
       "      <td>Bouken Ou Beet</td>\n",
       "      <td>6.98</td>\n",
       "      <td>Adventure, Fantasy, Shounen, Supernatural</td>\n",
       "      <td>Beet the Vandel Buster</td>\n",
       "      <td>冒険王ビィト</td>\n",
       "      <td>TV</td>\n",
       "      <td>52</td>\n",
       "      <td>Sep 30, 2004 to Sep 29, 2005</td>\n",
       "      <td>Fall 2004</td>\n",
       "      <td>...</td>\n",
       "      <td>312.0</td>\n",
       "      <td>529.0</td>\n",
       "      <td>1242.0</td>\n",
       "      <td>1713.0</td>\n",
       "      <td>1068.0</td>\n",
       "      <td>634.0</td>\n",
       "      <td>265.0</td>\n",
       "      <td>83.0</td>\n",
       "      <td>50.0</td>\n",
       "      <td>27.0</td>\n",
       "    </tr>\n",
       "  </tbody>\n",
       "</table>\n",
       "<p>5 rows × 35 columns</p>\n",
       "</div>"
      ],
      "text/plain": [
       "  MAL_ID                             Name Score  \\\n",
       "0      1                     Cowboy Bebop  8.78   \n",
       "1      5  Cowboy Bebop: Tengoku no Tobira  8.39   \n",
       "2      6                           Trigun  8.24   \n",
       "3      7               Witch Hunter Robin  7.27   \n",
       "4      8                   Bouken Ou Beet  6.98   \n",
       "\n",
       "                                              Genres            English name  \\\n",
       "0    Action, Adventure, Comedy, Drama, Sci-Fi, Space            Cowboy Bebop   \n",
       "1              Action, Drama, Mystery, Sci-Fi, Space  Cowboy Bebop:The Movie   \n",
       "2  Action, Sci-Fi, Adventure, Comedy, Drama, Shounen                  Trigun   \n",
       "3  Action, Mystery, Police, Supernatural, Drama, ...      Witch Hunter Robin   \n",
       "4          Adventure, Fantasy, Shounen, Supernatural  Beet the Vandel Buster   \n",
       "\n",
       "                      Japanese name   Type Episodes  \\\n",
       "0                         カウボーイビバップ     TV       26   \n",
       "1                    カウボーイビバップ 天国の扉  Movie        1   \n",
       "2                             トライガン     TV       26   \n",
       "3  Witch Hunter ROBIN (ウイッチハンターロビン)     TV       26   \n",
       "4                            冒険王ビィト     TV       52   \n",
       "\n",
       "                          Aired    Premiered  ...  Score-10   Score-9  \\\n",
       "0   Apr 3, 1998 to Apr 24, 1999  Spring 1998  ...  229170.0  182126.0   \n",
       "1                   Sep 1, 2001      Unknown  ...   30043.0   49201.0   \n",
       "2   Apr 1, 1998 to Sep 30, 1998  Spring 1998  ...   50229.0   75651.0   \n",
       "3   Jul 2, 2002 to Dec 24, 2002  Summer 2002  ...    2182.0    4806.0   \n",
       "4  Sep 30, 2004 to Sep 29, 2005    Fall 2004  ...     312.0     529.0   \n",
       "\n",
       "    Score-8  Score-7  Score-6 Score-5 Score-4 Score-3 Score-2 Score-1  \n",
       "0  131625.0  62330.0  20688.0  8904.0  3184.0  1357.0   741.0  1580.0  \n",
       "1   49505.0  22632.0   5805.0  1877.0   577.0   221.0   109.0   379.0  \n",
       "2   86142.0  49432.0  15376.0  5838.0  1965.0   664.0   316.0   533.0  \n",
       "3   10128.0  11618.0   5709.0  2920.0  1083.0   353.0   164.0   131.0  \n",
       "4    1242.0   1713.0   1068.0   634.0   265.0    83.0    50.0    27.0  \n",
       "\n",
       "[5 rows x 35 columns]"
      ]
     },
     "execution_count": 3,
     "metadata": {},
     "output_type": "execute_result"
    }
   ],
   "source": [
    "anime.head(5)"
   ]
  },
  {
   "cell_type": "code",
   "execution_count": 4,
   "metadata": {
    "colab": {
     "base_uri": "https://localhost:8080/"
    },
    "id": "A7NZ6cE6svij",
    "outputId": "2e352b15-2e87-41e0-ae4d-c5cdf53df78c",
    "scrolled": true
   },
   "outputs": [
    {
     "name": "stdout",
     "output_type": "stream",
     "text": [
      "['Action', 'Adventure', 'Comedy', 'Drama', 'Sci-Fi', 'Space', 'Action', 'Drama', 'Mystery', 'Sci-Fi', 'Space', 'Action', 'Sci-Fi', 'Adventure', 'Comedy', 'Drama', 'Shounen', 'Action', 'Mystery', 'Police', 'Supernatural', 'Drama', 'Magic', 'Adventure', 'Fantasy', 'Shounen', 'Supernatural', 'Action', 'Sports', 'Comedy', 'Shounen', 'Comedy', 'Drama', 'Josei', 'Romance', 'Slice of Life', 'Slice of Life', 'Comedy', 'Sports', 'Shounen', 'Action', 'Cars', 'Sports', 'Drama', 'Seinen', 'Drama', 'Horror', 'Mystery', 'Police', 'Psychological', 'Seinen', 'Thriller', 'Action', 'Adventure', 'Comedy', 'Super Power', 'Martial Arts', 'Shounen', 'Action', 'Adventure', 'Comedy', 'Super Power', 'Drama', 'Fantasy', 'Shounen', 'Action', 'Comedy', 'Sports', 'School', 'Shounen', 'Action', 'Shounen', 'Sports', 'Comedy', 'Romance', 'School', 'Shounen', 'Action', 'Adventure', 'Comedy', 'Ecchi', 'Sci-Fi', 'Shounen', 'Action', 'Sci-Fi', 'Psychological', 'Drama', 'Action', 'Supernatural', 'Vampire', 'Comedy', 'Shounen', 'Action', 'Military', 'Sci-Fi', 'Historical', 'Drama', 'Seinen', 'Action', 'Sci-Fi']\n"
     ]
    }
   ],
   "source": [
    "X = anime['Genres'].str.split(', ').explode().tolist()\n",
    "print(X[:100])"
   ]
  },
  {
   "cell_type": "code",
   "execution_count": 6,
   "metadata": {
    "id": "C8Pd8C8gtuLV"
   },
   "outputs": [],
   "source": [
    "x = anime['Genres'].str.split(', ').explode().tolist()\n",
    "unique_genre = []\n",
    "for i in x:\n",
    "    if i not in unique_genre:\n",
    "        unique_genre.append(i)"
   ]
  },
  {
   "cell_type": "code",
   "execution_count": 7,
   "metadata": {
    "id": "LoidNEDltx5n"
   },
   "outputs": [],
   "source": [
    "empty_dict = {}\n",
    "for i in unique_genre:\n",
    "    empty_dict[i] = len(anime[anime.Genres == i])"
   ]
  },
  {
   "cell_type": "code",
   "execution_count": 8,
   "metadata": {
    "colab": {
     "base_uri": "https://localhost:8080/"
    },
    "id": "PktuOhVzt26k",
    "outputId": "5ea75130-a8d3-456c-e7e4-76663b208963"
   },
   "outputs": [
    {
     "name": "stdout",
     "output_type": "stream",
     "text": [
      "dict_keys(['Action', 'Adventure', 'Comedy', 'Drama', 'Sci-Fi', 'Space', 'Mystery', 'Shounen', 'Police', 'Supernatural', 'Magic', 'Fantasy', 'Sports', 'Josei', 'Romance', 'Slice of Life', 'Cars', 'Seinen', 'Horror', 'Psychological', 'Thriller', 'Super Power', 'Martial Arts', 'School', 'Ecchi', 'Vampire', 'Military', 'Historical', 'Dementia', 'Mecha', 'Demons', 'Samurai', 'Game', 'Shoujo', 'Harem', 'Music', 'Shoujo Ai', 'Shounen Ai', 'Kids', 'Hentai', 'Parody', 'Yuri', 'Yaoi', 'Unknown'])\n",
      "dict_values([65, 90, 668, 136, 65, 7, 25, 8, 1, 23, 21, 153, 61, 1, 20, 217, 8, 4, 21, 11, 1, 0, 3, 20, 27, 3, 5, 87, 228, 19, 2, 4, 26, 6, 2, 790, 0, 2, 413, 969, 14, 0, 3, 63])\n"
     ]
    }
   ],
   "source": [
    "keys = empty_dict.keys()\n",
    "values = empty_dict.values()\n",
    "print(keys)\n",
    "print(values)\n"
   ]
  },
  {
   "cell_type": "code",
   "execution_count": 9,
   "metadata": {
    "colab": {
     "base_uri": "https://localhost:8080/"
    },
    "id": "YrbKKXG8t7jo",
    "outputId": "b98f3b44-45e1-46fc-9be1-2aad77b39064"
   },
   "outputs": [
    {
     "name": "stdout",
     "output_type": "stream",
     "text": [
      "{'Hentai': 969, 'Music': 790, 'Comedy': 668, 'Kids': 413, 'Dementia': 228, 'Slice of Life': 217, 'Fantasy': 153, 'Drama': 136, 'Adventure': 90, 'Historical': 87, 'Action': 65, 'Sci-Fi': 65, 'Unknown': 63, 'Sports': 61, 'Ecchi': 27, 'Game': 26, 'Mystery': 25, 'Supernatural': 23, 'Magic': 21, 'Horror': 21, 'Romance': 20, 'School': 20, 'Mecha': 19, 'Parody': 14, 'Psychological': 11, 'Shounen': 8, 'Cars': 8, 'Space': 7, 'Shoujo': 6, 'Military': 5, 'Seinen': 4, 'Samurai': 4, 'Martial Arts': 3, 'Vampire': 3, 'Yaoi': 3, 'Demons': 2, 'Harem': 2, 'Shounen Ai': 2, 'Police': 1, 'Josei': 1, 'Thriller': 1, 'Super Power': 0, 'Shoujo Ai': 0, 'Yuri': 0}\n"
     ]
    }
   ],
   "source": [
    "import operator\n",
    "sorted_d = dict( sorted(empty_dict.items(), key=operator.itemgetter(1),reverse=True))\n",
    "print(sorted_d)"
   ]
  },
  {
   "cell_type": "markdown",
   "metadata": {
    "id": "Ln__bS6BuFTC"
   },
   "source": [
    "TOP 20 ANIME GENRES"
   ]
  },
  {
   "cell_type": "code",
   "execution_count": 10,
   "metadata": {
    "colab": {
     "base_uri": "https://localhost:8080/",
     "height": 357
    },
    "id": "7E2Nv9EMuIOV",
    "outputId": "c903e5ec-94af-4286-eb4c-2b8ed0ad537c"
   },
   "outputs": [
    {
     "name": "stdout",
     "output_type": "stream",
     "text": [
      "44\n"
     ]
    },
    {
     "data": {
      "image/png": "[encoded data removed]",
      "text/plain": [
       "<Figure size 640x480 with 1 Axes>"
      ]
     },
     "metadata": {},
     "output_type": "display_data"
    }
   ],
   "source": [
    "new_dict={}\n",
    "for key in sorted_d:\n",
    "    if sorted_d[key] > 20 :\n",
    "        new_dict[key] = sorted_d[key]\n",
    "keys1 = new_dict.keys()\n",
    "values1 = new_dict.values()\n",
    "patches, texts = plt.pie(values1, startangle=90)\n",
    "plt.legend(patches, keys1, loc=\"best\")\n",
    "plt.axis('equal')\n",
    "plt.tight_layout()\n",
    "\n",
    "print(len(keys))\n",
    "centre_circle = plt.Circle((0, 0), 0.70, fc='white')\n",
    "fig = plt.gcf()\n",
    "fig.gca().add_artist(centre_circle)\n",
    "plt.show()"
   ]
  },
  {
   "cell_type": "code",
   "execution_count": 11,
   "metadata": {
    "colab": {
     "base_uri": "https://localhost:8080/"
    },
    "id": "MS3SUD03cwAY",
    "outputId": "08ff5ec9-0b1e-4189-b7b9-b0ddb7b6100e"
   },
   "outputs": [
    {
     "data": {
      "text/plain": [
       "Unknown                         309\n",
       "2005                             57\n",
       "2004                             49\n",
       "2021 to ?                        46\n",
       "2003                             46\n",
       "                               ... \n",
       "Dec 18, 2009 to Jul 26, 2010      1\n",
       "Dec 26, 2009                      1\n",
       "Apr 5, 1993 to Jan 27, 1994       1\n",
       "Jan 25, 1992                      1\n",
       "Mar 17, 2021 to ?                 1\n",
       "Name: Aired, Length: 11947, dtype: int64"
      ]
     },
     "execution_count": 11,
     "metadata": {},
     "output_type": "execute_result"
    }
   ],
   "source": [
    "anime['Aired'].value_counts()"
   ]
  },
  {
   "cell_type": "code",
   "execution_count": 12,
   "metadata": {
    "id": "UPt38R3dc2vH"
   },
   "outputs": [],
   "source": [
    "def year_extraction(series):\n",
    "    if series != 'Unknown':\n",
    "        m = re.search(r'[0-9]{4}', series)\n",
    "        return m.group()\n",
    "    else:\n",
    "        return 0\n",
    "    \n",
    "anime['Year'] = anime['Aired'].map(year_extraction).astype(int)"
   ]
  },
  {
   "cell_type": "code",
   "execution_count": 13,
   "metadata": {
    "colab": {
     "base_uri": "https://localhost:8080/"
    },
    "id": "uBCRBZgkdIh7",
    "outputId": "c73f6692-0a02-47ec-e697-642af8db20da"
   },
   "outputs": [
    {
     "data": {
      "text/plain": [
       "Unknown        12817\n",
       "Spring 2017       86\n",
       "Fall 2016         79\n",
       "Spring 2018       77\n",
       "Spring 2016       74\n",
       "               ...  \n",
       "Winter 1974        1\n",
       "Summer 1986        1\n",
       "Winter 1963        1\n",
       "Winter 1985        1\n",
       "Winter 1970        1\n",
       "Name: Premiered, Length: 231, dtype: int64"
      ]
     },
     "execution_count": 13,
     "metadata": {},
     "output_type": "execute_result"
    }
   ],
   "source": [
    "anime['Premiered'].value_counts()"
   ]
  },
  {
   "cell_type": "code",
   "execution_count": 14,
   "metadata": {
    "colab": {
     "base_uri": "https://localhost:8080/"
    },
    "id": "SQR2jjaldVWC",
    "outputId": "02ba3bf9-7319-410c-9a29-2adaf1c76dc1"
   },
   "outputs": [
    {
     "data": {
      "text/plain": [
       "TV         4996\n",
       "OVA        3894\n",
       "Movie      3041\n",
       "Special    2218\n",
       "ONA        1907\n",
       "Music      1469\n",
       "Unknown      37\n",
       "Name: Type, dtype: int64"
      ]
     },
     "execution_count": 14,
     "metadata": {},
     "output_type": "execute_result"
    }
   ],
   "source": [
    "anime['Type'].value_counts()"
   ]
  },
  {
   "cell_type": "markdown",
   "metadata": {
    "id": "b42Jk0VUdt_H"
   },
   "source": [
    "Only Type TV has premiered information"
   ]
  },
  {
   "cell_type": "code",
   "execution_count": 15,
   "metadata": {
    "colab": {
     "base_uri": "https://localhost:8080/",
     "height": 664
    },
    "id": "2HOmtTu-dnN3",
    "outputId": "e9c597df-2e91-4b77-8511-b21cf6bc4a10"
   },
   "outputs": [
    {
     "data": {
      "text/html": [
       "<div>\n",
       "<style scoped>\n",
       "    .dataframe tbody tr th:only-of-type {\n",
       "        vertical-align: middle;\n",
       "    }\n",
       "\n",
       "    .dataframe tbody tr th {\n",
       "        vertical-align: top;\n",
       "    }\n",
       "\n",
       "    .dataframe thead th {\n",
       "        text-align: right;\n",
       "    }\n",
       "</style>\n",
       "<table border=\"1\" class=\"dataframe\">\n",
       "  <thead>\n",
       "    <tr style=\"text-align: right;\">\n",
       "      <th></th>\n",
       "      <th>MAL_ID</th>\n",
       "      <th>Name</th>\n",
       "      <th>Score</th>\n",
       "      <th>Genres</th>\n",
       "      <th>English name</th>\n",
       "      <th>Japanese name</th>\n",
       "      <th>Type</th>\n",
       "      <th>Episodes</th>\n",
       "      <th>Aired</th>\n",
       "      <th>Premiered</th>\n",
       "      <th>...</th>\n",
       "      <th>Score-9</th>\n",
       "      <th>Score-8</th>\n",
       "      <th>Score-7</th>\n",
       "      <th>Score-6</th>\n",
       "      <th>Score-5</th>\n",
       "      <th>Score-4</th>\n",
       "      <th>Score-3</th>\n",
       "      <th>Score-2</th>\n",
       "      <th>Score-1</th>\n",
       "      <th>Year</th>\n",
       "    </tr>\n",
       "  </thead>\n",
       "  <tbody>\n",
       "    <tr>\n",
       "      <th>1</th>\n",
       "      <td>5</td>\n",
       "      <td>Cowboy Bebop: Tengoku no Tobira</td>\n",
       "      <td>8.39</td>\n",
       "      <td>Action, Drama, Mystery, Sci-Fi, Space</td>\n",
       "      <td>Cowboy Bebop:The Movie</td>\n",
       "      <td>カウボーイビバップ 天国の扉</td>\n",
       "      <td>Movie</td>\n",
       "      <td>1</td>\n",
       "      <td>Sep 1, 2001</td>\n",
       "      <td>Unknown</td>\n",
       "      <td>...</td>\n",
       "      <td>49201.0</td>\n",
       "      <td>49505.0</td>\n",
       "      <td>22632.0</td>\n",
       "      <td>5805.0</td>\n",
       "      <td>1877.0</td>\n",
       "      <td>577.0</td>\n",
       "      <td>221.0</td>\n",
       "      <td>109.0</td>\n",
       "      <td>379.0</td>\n",
       "      <td>2001</td>\n",
       "    </tr>\n",
       "    <tr>\n",
       "      <th>21</th>\n",
       "      <td>31</td>\n",
       "      <td>Neon Genesis Evangelion: Death &amp; Rebirth</td>\n",
       "      <td>7.45</td>\n",
       "      <td>Drama, Mecha, Psychological, Sci-Fi</td>\n",
       "      <td>Neon Genesis Evangelion:Death &amp; Rebirth</td>\n",
       "      <td>新世紀エヴァンゲリオン劇場版 シト新生</td>\n",
       "      <td>Movie</td>\n",
       "      <td>1</td>\n",
       "      <td>Mar 15, 1997</td>\n",
       "      <td>Unknown</td>\n",
       "      <td>...</td>\n",
       "      <td>15245.0</td>\n",
       "      <td>23683.0</td>\n",
       "      <td>25396.0</td>\n",
       "      <td>12694.0</td>\n",
       "      <td>6313.0</td>\n",
       "      <td>2636.0</td>\n",
       "      <td>1042.0</td>\n",
       "      <td>654.0</td>\n",
       "      <td>737.0</td>\n",
       "      <td>1997</td>\n",
       "    </tr>\n",
       "    <tr>\n",
       "      <th>22</th>\n",
       "      <td>32</td>\n",
       "      <td>Neon Genesis Evangelion: The End of Evangelion</td>\n",
       "      <td>8.51</td>\n",
       "      <td>Sci-Fi, Dementia, Psychological, Drama, Mecha</td>\n",
       "      <td>Neon Genesis Evangelion:The End of Evangelion</td>\n",
       "      <td>新世紀エヴァンゲリオン劇場版 THE END OF EVANGELION</td>\n",
       "      <td>Movie</td>\n",
       "      <td>1</td>\n",
       "      <td>Jul 19, 1997</td>\n",
       "      <td>Unknown</td>\n",
       "      <td>...</td>\n",
       "      <td>95821.0</td>\n",
       "      <td>77593.0</td>\n",
       "      <td>41261.0</td>\n",
       "      <td>16444.0</td>\n",
       "      <td>7057.0</td>\n",
       "      <td>4493.0</td>\n",
       "      <td>2279.0</td>\n",
       "      <td>1941.0</td>\n",
       "      <td>2264.0</td>\n",
       "      <td>1997</td>\n",
       "    </tr>\n",
       "    <tr>\n",
       "      <th>24</th>\n",
       "      <td>43</td>\n",
       "      <td>Koukaku Kidoutai</td>\n",
       "      <td>8.29</td>\n",
       "      <td>Action, Mecha, Police, Psychological, Sci-Fi, ...</td>\n",
       "      <td>Ghost in the Shell</td>\n",
       "      <td>GHOST IN THE SHELL（攻殻機動隊）</td>\n",
       "      <td>Movie</td>\n",
       "      <td>1</td>\n",
       "      <td>Nov 18, 1995</td>\n",
       "      <td>Unknown</td>\n",
       "      <td>...</td>\n",
       "      <td>65298.0</td>\n",
       "      <td>70881.0</td>\n",
       "      <td>39446.0</td>\n",
       "      <td>13704.0</td>\n",
       "      <td>5107.0</td>\n",
       "      <td>1842.0</td>\n",
       "      <td>675.0</td>\n",
       "      <td>292.0</td>\n",
       "      <td>486.0</td>\n",
       "      <td>1995</td>\n",
       "    </tr>\n",
       "    <tr>\n",
       "      <th>27</th>\n",
       "      <td>46</td>\n",
       "      <td>Rurouni Kenshin: Meiji Kenkaku Romantan - Ishi...</td>\n",
       "      <td>7.56</td>\n",
       "      <td>Samurai, Historical, Drama, Shounen</td>\n",
       "      <td>Samurai X:The Motion Picture</td>\n",
       "      <td>るろうに剣心 -明治剣客浪漫譚- 維新志士への鎮魂歌</td>\n",
       "      <td>Movie</td>\n",
       "      <td>1</td>\n",
       "      <td>Dec 20, 1997</td>\n",
       "      <td>Unknown</td>\n",
       "      <td>...</td>\n",
       "      <td>3683.0</td>\n",
       "      <td>6232.0</td>\n",
       "      <td>6557.0</td>\n",
       "      <td>2832.0</td>\n",
       "      <td>1310.0</td>\n",
       "      <td>426.0</td>\n",
       "      <td>129.0</td>\n",
       "      <td>71.0</td>\n",
       "      <td>59.0</td>\n",
       "      <td>1997</td>\n",
       "    </tr>\n",
       "  </tbody>\n",
       "</table>\n",
       "<p>5 rows × 36 columns</p>\n",
       "</div>"
      ],
      "text/plain": [
       "   MAL_ID                                               Name Score  \\\n",
       "1       5                    Cowboy Bebop: Tengoku no Tobira  8.39   \n",
       "21     31           Neon Genesis Evangelion: Death & Rebirth  7.45   \n",
       "22     32     Neon Genesis Evangelion: The End of Evangelion  8.51   \n",
       "24     43                                   Koukaku Kidoutai  8.29   \n",
       "27     46  Rurouni Kenshin: Meiji Kenkaku Romantan - Ishi...  7.56   \n",
       "\n",
       "                                               Genres  \\\n",
       "1               Action, Drama, Mystery, Sci-Fi, Space   \n",
       "21                Drama, Mecha, Psychological, Sci-Fi   \n",
       "22      Sci-Fi, Dementia, Psychological, Drama, Mecha   \n",
       "24  Action, Mecha, Police, Psychological, Sci-Fi, ...   \n",
       "27                Samurai, Historical, Drama, Shounen   \n",
       "\n",
       "                                     English name  \\\n",
       "1                          Cowboy Bebop:The Movie   \n",
       "21        Neon Genesis Evangelion:Death & Rebirth   \n",
       "22  Neon Genesis Evangelion:The End of Evangelion   \n",
       "24                             Ghost in the Shell   \n",
       "27                   Samurai X:The Motion Picture   \n",
       "\n",
       "                           Japanese name   Type Episodes         Aired  \\\n",
       "1                         カウボーイビバップ 天国の扉  Movie        1   Sep 1, 2001   \n",
       "21                  新世紀エヴァンゲリオン劇場版 シト新生  Movie        1  Mar 15, 1997   \n",
       "22  新世紀エヴァンゲリオン劇場版 THE END OF EVANGELION  Movie        1  Jul 19, 1997   \n",
       "24             GHOST IN THE SHELL（攻殻機動隊）  Movie        1  Nov 18, 1995   \n",
       "27            るろうに剣心 -明治剣客浪漫譚- 維新志士への鎮魂歌  Movie        1  Dec 20, 1997   \n",
       "\n",
       "   Premiered  ...  Score-9  Score-8  Score-7  Score-6 Score-5 Score-4 Score-3  \\\n",
       "1    Unknown  ...  49201.0  49505.0  22632.0   5805.0  1877.0   577.0   221.0   \n",
       "21   Unknown  ...  15245.0  23683.0  25396.0  12694.0  6313.0  2636.0  1042.0   \n",
       "22   Unknown  ...  95821.0  77593.0  41261.0  16444.0  7057.0  4493.0  2279.0   \n",
       "24   Unknown  ...  65298.0  70881.0  39446.0  13704.0  5107.0  1842.0   675.0   \n",
       "27   Unknown  ...   3683.0   6232.0   6557.0   2832.0  1310.0   426.0   129.0   \n",
       "\n",
       "   Score-2 Score-1  Year  \n",
       "1    109.0   379.0  2001  \n",
       "21   654.0   737.0  1997  \n",
       "22  1941.0  2264.0  1997  \n",
       "24   292.0   486.0  1995  \n",
       "27    71.0    59.0  1997  \n",
       "\n",
       "[5 rows x 36 columns]"
      ]
     },
     "execution_count": 15,
     "metadata": {},
     "output_type": "execute_result"
    }
   ],
   "source": [
    "anime[anime['Type'] == 'Movie'].head(5)"
   ]
  },
  {
   "cell_type": "code",
   "execution_count": 16,
   "metadata": {
    "colab": {
     "base_uri": "https://localhost:8080/"
    },
    "id": "LWdFyN74efnV",
    "outputId": "7b544bab-731a-476f-f4ab-a7346c4b363d"
   },
   "outputs": [
    {
     "data": {
      "text/plain": [
       "4745"
      ]
     },
     "execution_count": 16,
     "metadata": {},
     "output_type": "execute_result"
    }
   ],
   "source": [
    "anime['Premiered'].str.match('(Spring|Summer|Fall|Winter) [0-9]{4}').sum()"
   ]
  },
  {
   "cell_type": "code",
   "execution_count": 17,
   "metadata": {
    "colab": {
     "base_uri": "https://localhost:8080/",
     "height": 206
    },
    "id": "UCWCloDNfD5E",
    "outputId": "b1d9dc93-4abf-4ef6-838e-3df1ddca1923"
   },
   "outputs": [
    {
     "data": {
      "text/html": [
       "<div>\n",
       "<style scoped>\n",
       "    .dataframe tbody tr th:only-of-type {\n",
       "        vertical-align: middle;\n",
       "    }\n",
       "\n",
       "    .dataframe tbody tr th {\n",
       "        vertical-align: top;\n",
       "    }\n",
       "\n",
       "    .dataframe thead th {\n",
       "        text-align: right;\n",
       "    }\n",
       "</style>\n",
       "<table border=\"1\" class=\"dataframe\">\n",
       "  <thead>\n",
       "    <tr style=\"text-align: right;\">\n",
       "      <th></th>\n",
       "      <th>index</th>\n",
       "      <th>Season</th>\n",
       "    </tr>\n",
       "  </thead>\n",
       "  <tbody>\n",
       "    <tr>\n",
       "      <th>0</th>\n",
       "      <td>Unknown</td>\n",
       "      <td>12817</td>\n",
       "    </tr>\n",
       "    <tr>\n",
       "      <th>1</th>\n",
       "      <td>Spring</td>\n",
       "      <td>1611</td>\n",
       "    </tr>\n",
       "    <tr>\n",
       "      <th>2</th>\n",
       "      <td>Fall</td>\n",
       "      <td>1389</td>\n",
       "    </tr>\n",
       "    <tr>\n",
       "      <th>3</th>\n",
       "      <td>Winter</td>\n",
       "      <td>942</td>\n",
       "    </tr>\n",
       "    <tr>\n",
       "      <th>4</th>\n",
       "      <td>Summer</td>\n",
       "      <td>803</td>\n",
       "    </tr>\n",
       "  </tbody>\n",
       "</table>\n",
       "</div>"
      ],
      "text/plain": [
       "     index  Season\n",
       "0  Unknown   12817\n",
       "1   Spring    1611\n",
       "2     Fall    1389\n",
       "3   Winter     942\n",
       "4   Summer     803"
      ]
     },
     "execution_count": 17,
     "metadata": {},
     "output_type": "execute_result"
    }
   ],
   "source": [
    "anime['Season'] = anime['Premiered'].str.split(pat=' ', expand=True)[0]\n",
    "anime['Season'].value_counts().reset_index()"
   ]
  },
  {
   "cell_type": "code",
   "execution_count": 18,
   "metadata": {
    "colab": {
     "base_uri": "https://localhost:8080/"
    },
    "id": "loo3aa2tfEhF",
    "outputId": "aef4ee2a-d6df-4904-9d45-92e0e789f812"
   },
   "outputs": [
    {
     "data": {
      "text/plain": [
       "Unknown    5141\n",
       "6.48         74\n",
       "6.3          72\n",
       "6.31         72\n",
       "6.52         71\n",
       "           ... \n",
       "3.19          1\n",
       "4.2           1\n",
       "4.35          1\n",
       "3.32          1\n",
       "4.06          1\n",
       "Name: Score, Length: 533, dtype: int64"
      ]
     },
     "execution_count": 18,
     "metadata": {},
     "output_type": "execute_result"
    }
   ],
   "source": [
    "anime['Score'].value_counts()"
   ]
  },
  {
   "cell_type": "code",
   "execution_count": 19,
   "metadata": {
    "id": "wkEx3EiUfEwD"
   },
   "outputs": [],
   "source": [
    "anime['Score'] = anime['Score'].replace('Unknown', 0).astype(float)"
   ]
  },
  {
   "cell_type": "code",
   "execution_count": 20,
   "metadata": {
    "id": "hagaXgvxfE6_"
   },
   "outputs": [],
   "source": [
    "def split_labels(series):\n",
    "    series = series.split(\",\")\n",
    "    if \"Unknown\" in series:\n",
    "        series.remove(\"Unknown\")\n",
    "    return series\n",
    "\n",
    "anime[\"Genres\"] = anime[\"Genres\"].map(split_labels)\n",
    "anime[\"Studios\"] = anime[\"Studios\"].map(split_labels)"
   ]
  },
  {
   "cell_type": "code",
   "execution_count": 21,
   "metadata": {
    "id": "C4J-_w-4fWZz"
   },
   "outputs": [],
   "source": [
    "anime_year = pd.DataFrame(anime.groupby('Year').count()['MAL_ID']).reset_index()"
   ]
  },
  {
   "cell_type": "code",
   "execution_count": 22,
   "metadata": {
    "id": "BWLnV0WYfWk-"
   },
   "outputs": [],
   "source": [
    "tmp = anime_year.drop(index=0)\n",
    "tmp1 = tmp.sort_values('MAL_ID',ascending=False)\n",
    "tmp1\n",
    "\n",
    "year = tmp1[\"Year\"].tolist()[0:20]\n",
    "values2 = tmp1[\"MAL_ID\"].tolist()[0:20]\n"
   ]
  },
  {
   "cell_type": "markdown",
   "metadata": {
    "id": "HYdhdiHtu8Uv"
   },
   "source": [
    "TOP 20 YEARS BASED ON ANIME COUNT"
   ]
  },
  {
   "cell_type": "code",
   "execution_count": 23,
   "metadata": {
    "colab": {
     "base_uri": "https://localhost:8080/",
     "height": 287
    },
    "id": "7i3DtuwEuu9i",
    "outputId": "798c0211-8295-4395-e860-7802baa4f02f"
   },
   "outputs": [
    {
     "name": "stdout",
     "output_type": "stream",
     "text": [
      "Requirement already satisfied: squarify in /Users/adithyaabhishek/opt/anaconda3/lib/python3.9/site-packages (0.4.3)\r\n"
     ]
    },
    {
     "data": {
      "image/png": "[encoded data removed]",
      "text/plain": [
       "<Figure size 640x480 with 1 Axes>"
      ]
     },
     "metadata": {},
     "output_type": "display_data"
    }
   ],
   "source": [
    "!pip install squarify \n",
    "import matplotlib.pyplot as plt\n",
    "import squarify \n",
    "squarify.plot(sizes=values2, label=year, alpha=0.4 )\n",
    "plt.show()"
   ]
  },
  {
   "cell_type": "markdown",
   "metadata": {
    "id": "Fmi1d23zvQQ1"
   },
   "source": [
    "ANIME IN EACH YEAR"
   ]
  },
  {
   "cell_type": "code",
   "execution_count": 24,
   "metadata": {
    "colab": {
     "base_uri": "https://localhost:8080/",
     "height": 283
    },
    "id": "ewW0m5YfvGq1",
    "outputId": "9432bf7d-cc28-4122-8977-1a01efe238ac"
   },
   "outputs": [
    {
     "data": {
      "text/plain": [
       "Text(0, 0.5, 'Count of Anime')"
      ]
     },
     "execution_count": 24,
     "metadata": {},
     "output_type": "execute_result"
    },
    {
     "data": {
      "image/png": "[encoded data removed]",
      "text/plain": [
       "<Figure size 640x480 with 1 Axes>"
      ]
     },
     "metadata": {},
     "output_type": "display_data"
    }
   ],
   "source": [
    "anime_by_year = pd.DataFrame(anime.groupby('Year').count()['MAL_ID']).reset_index()\n",
    "anime_by_year\n",
    "x = anime_by_year.drop(index = 0)\n",
    "plt.bar(x['Year'], x['MAL_ID'],width = 0.8)\n",
    "plt.xlabel(\"Year\")\n",
    "plt.ylabel(\"Count of Anime\")"
   ]
  },
  {
   "cell_type": "markdown",
   "metadata": {
    "id": "cGTyK7RVhjaQ"
   },
   "source": [
    "Top 50 anime as per score"
   ]
  },
  {
   "cell_type": "code",
   "execution_count": 25,
   "metadata": {
    "colab": {
     "base_uri": "https://localhost:8080/",
     "height": 733
    },
    "id": "NItlFfFjfWnz",
    "outputId": "b70c16fe-eb50-48c1-c6b2-50f501ed47cc"
   },
   "outputs": [
    {
     "data": {
      "text/html": [
       "<div>\n",
       "<style scoped>\n",
       "    .dataframe tbody tr th:only-of-type {\n",
       "        vertical-align: middle;\n",
       "    }\n",
       "\n",
       "    .dataframe tbody tr th {\n",
       "        vertical-align: top;\n",
       "    }\n",
       "\n",
       "    .dataframe thead th {\n",
       "        text-align: right;\n",
       "    }\n",
       "</style>\n",
       "<table border=\"1\" class=\"dataframe\">\n",
       "  <thead>\n",
       "    <tr style=\"text-align: right;\">\n",
       "      <th></th>\n",
       "      <th>MAL_ID</th>\n",
       "      <th>Name</th>\n",
       "      <th>Score</th>\n",
       "      <th>Genres</th>\n",
       "      <th>English name</th>\n",
       "      <th>Japanese name</th>\n",
       "      <th>Type</th>\n",
       "      <th>Episodes</th>\n",
       "      <th>Aired</th>\n",
       "      <th>Premiered</th>\n",
       "      <th>...</th>\n",
       "      <th>Score-8</th>\n",
       "      <th>Score-7</th>\n",
       "      <th>Score-6</th>\n",
       "      <th>Score-5</th>\n",
       "      <th>Score-4</th>\n",
       "      <th>Score-3</th>\n",
       "      <th>Score-2</th>\n",
       "      <th>Score-1</th>\n",
       "      <th>Year</th>\n",
       "      <th>Season</th>\n",
       "    </tr>\n",
       "  </thead>\n",
       "  <tbody>\n",
       "    <tr>\n",
       "      <th>3971</th>\n",
       "      <td>5114</td>\n",
       "      <td>Fullmetal Alchemist: Brotherhood</td>\n",
       "      <td>9.19</td>\n",
       "      <td>[Action,  Military,  Adventure,  Comedy,  Dram...</td>\n",
       "      <td>Fullmetal Alchemist:Brotherhood</td>\n",
       "      <td>鋼の錬金術師 FULLMETAL ALCHEMIST</td>\n",
       "      <td>TV</td>\n",
       "      <td>64</td>\n",
       "      <td>Apr 5, 2009 to Jul 4, 2010</td>\n",
       "      <td>Spring 2009</td>\n",
       "      <td>...</td>\n",
       "      <td>199160.0</td>\n",
       "      <td>70045.0</td>\n",
       "      <td>20210.0</td>\n",
       "      <td>9308.0</td>\n",
       "      <td>3222.0</td>\n",
       "      <td>1536.0</td>\n",
       "      <td>2162.0</td>\n",
       "      <td>16806.0</td>\n",
       "      <td>2009</td>\n",
       "      <td>Spring</td>\n",
       "    </tr>\n",
       "    <tr>\n",
       "      <th>15926</th>\n",
       "      <td>40028</td>\n",
       "      <td>Shingeki no Kyojin: The Final Season</td>\n",
       "      <td>9.17</td>\n",
       "      <td>[Action,  Military,  Mystery,  Super Power,  D...</td>\n",
       "      <td>Attack on Titan Final Season</td>\n",
       "      <td>進撃の巨人 The Final Season</td>\n",
       "      <td>TV</td>\n",
       "      <td>16</td>\n",
       "      <td>Dec 7, 2020 to ?</td>\n",
       "      <td>Winter 2021</td>\n",
       "      <td>...</td>\n",
       "      <td>26016.0</td>\n",
       "      <td>8793.0</td>\n",
       "      <td>2674.0</td>\n",
       "      <td>1336.0</td>\n",
       "      <td>588.0</td>\n",
       "      <td>382.0</td>\n",
       "      <td>514.0</td>\n",
       "      <td>11061.0</td>\n",
       "      <td>2020</td>\n",
       "      <td>Winter</td>\n",
       "    </tr>\n",
       "    <tr>\n",
       "      <th>5683</th>\n",
       "      <td>9253</td>\n",
       "      <td>Steins;Gate</td>\n",
       "      <td>9.11</td>\n",
       "      <td>[Thriller,  Sci-Fi]</td>\n",
       "      <td>Steins;Gate</td>\n",
       "      <td>STEINS;GATE</td>\n",
       "      <td>TV</td>\n",
       "      <td>24</td>\n",
       "      <td>Apr 6, 2011 to Sep 14, 2011</td>\n",
       "      <td>Spring 2011</td>\n",
       "      <td>...</td>\n",
       "      <td>140914.0</td>\n",
       "      <td>57740.0</td>\n",
       "      <td>21375.0</td>\n",
       "      <td>11126.0</td>\n",
       "      <td>5061.0</td>\n",
       "      <td>2292.0</td>\n",
       "      <td>1678.0</td>\n",
       "      <td>5255.0</td>\n",
       "      <td>2011</td>\n",
       "      <td>Spring</td>\n",
       "    </tr>\n",
       "    <tr>\n",
       "      <th>14963</th>\n",
       "      <td>38524</td>\n",
       "      <td>Shingeki no Kyojin Season 3 Part 2</td>\n",
       "      <td>9.10</td>\n",
       "      <td>[Action,  Drama,  Fantasy,  Military,  Mystery...</td>\n",
       "      <td>Attack on Titan Season 3 Part 2</td>\n",
       "      <td>進撃の巨人 Season3 Part.2</td>\n",
       "      <td>TV</td>\n",
       "      <td>10</td>\n",
       "      <td>Apr 29, 2019 to Jul 1, 2019</td>\n",
       "      <td>Spring 2019</td>\n",
       "      <td>...</td>\n",
       "      <td>110481.0</td>\n",
       "      <td>33662.0</td>\n",
       "      <td>8365.0</td>\n",
       "      <td>2974.0</td>\n",
       "      <td>1108.0</td>\n",
       "      <td>550.0</td>\n",
       "      <td>385.0</td>\n",
       "      <td>4169.0</td>\n",
       "      <td>2019</td>\n",
       "      <td>Spring</td>\n",
       "    </tr>\n",
       "    <tr>\n",
       "      <th>9913</th>\n",
       "      <td>28977</td>\n",
       "      <td>Gintama°</td>\n",
       "      <td>9.10</td>\n",
       "      <td>[Action,  Comedy,  Historical,  Parody,  Samur...</td>\n",
       "      <td>Gintama Season 4</td>\n",
       "      <td>銀魂°</td>\n",
       "      <td>TV</td>\n",
       "      <td>51</td>\n",
       "      <td>Apr 8, 2015 to Mar 30, 2016</td>\n",
       "      <td>Spring 2015</td>\n",
       "      <td>...</td>\n",
       "      <td>21360.0</td>\n",
       "      <td>10215.0</td>\n",
       "      <td>3898.0</td>\n",
       "      <td>2311.0</td>\n",
       "      <td>952.0</td>\n",
       "      <td>648.0</td>\n",
       "      <td>1100.0</td>\n",
       "      <td>4508.0</td>\n",
       "      <td>2015</td>\n",
       "      <td>Spring</td>\n",
       "    </tr>\n",
       "  </tbody>\n",
       "</table>\n",
       "<p>5 rows × 37 columns</p>\n",
       "</div>"
      ],
      "text/plain": [
       "      MAL_ID                                  Name  Score  \\\n",
       "3971    5114      Fullmetal Alchemist: Brotherhood   9.19   \n",
       "15926  40028  Shingeki no Kyojin: The Final Season   9.17   \n",
       "5683    9253                           Steins;Gate   9.11   \n",
       "14963  38524    Shingeki no Kyojin Season 3 Part 2   9.10   \n",
       "9913   28977                              Gintama°   9.10   \n",
       "\n",
       "                                                  Genres  \\\n",
       "3971   [Action,  Military,  Adventure,  Comedy,  Dram...   \n",
       "15926  [Action,  Military,  Mystery,  Super Power,  D...   \n",
       "5683                                 [Thriller,  Sci-Fi]   \n",
       "14963  [Action,  Drama,  Fantasy,  Military,  Mystery...   \n",
       "9913   [Action,  Comedy,  Historical,  Parody,  Samur...   \n",
       "\n",
       "                          English name               Japanese name Type  \\\n",
       "3971   Fullmetal Alchemist:Brotherhood  鋼の錬金術師 FULLMETAL ALCHEMIST   TV   \n",
       "15926     Attack on Titan Final Season      進撃の巨人 The Final Season   TV   \n",
       "5683                       Steins;Gate                 STEINS;GATE   TV   \n",
       "14963  Attack on Titan Season 3 Part 2        進撃の巨人 Season3 Part.2   TV   \n",
       "9913                  Gintama Season 4                         銀魂°   TV   \n",
       "\n",
       "      Episodes                        Aired    Premiered  ...   Score-8  \\\n",
       "3971        64   Apr 5, 2009 to Jul 4, 2010  Spring 2009  ...  199160.0   \n",
       "15926       16             Dec 7, 2020 to ?  Winter 2021  ...   26016.0   \n",
       "5683        24  Apr 6, 2011 to Sep 14, 2011  Spring 2011  ...  140914.0   \n",
       "14963       10  Apr 29, 2019 to Jul 1, 2019  Spring 2019  ...  110481.0   \n",
       "9913        51  Apr 8, 2015 to Mar 30, 2016  Spring 2015  ...   21360.0   \n",
       "\n",
       "       Score-7  Score-6  Score-5 Score-4 Score-3 Score-2  Score-1  Year  \\\n",
       "3971   70045.0  20210.0   9308.0  3222.0  1536.0  2162.0  16806.0  2009   \n",
       "15926   8793.0   2674.0   1336.0   588.0   382.0   514.0  11061.0  2020   \n",
       "5683   57740.0  21375.0  11126.0  5061.0  2292.0  1678.0   5255.0  2011   \n",
       "14963  33662.0   8365.0   2974.0  1108.0   550.0   385.0   4169.0  2019   \n",
       "9913   10215.0   3898.0   2311.0   952.0   648.0  1100.0   4508.0  2015   \n",
       "\n",
       "       Season  \n",
       "3971   Spring  \n",
       "15926  Winter  \n",
       "5683   Spring  \n",
       "14963  Spring  \n",
       "9913   Spring  \n",
       "\n",
       "[5 rows x 37 columns]"
      ]
     },
     "execution_count": 25,
     "metadata": {},
     "output_type": "execute_result"
    }
   ],
   "source": [
    "anime_50 = anime.sort_values('Score', ascending=False).head(50)\n",
    "anime_50.head(5)"
   ]
  },
  {
   "cell_type": "code",
   "execution_count": 26,
   "metadata": {
    "colab": {
     "base_uri": "https://localhost:8080/",
     "height": 206
    },
    "id": "Ha7T4kHHfWs-",
    "outputId": "89308870-8f12-4bdc-c3bf-73c95e0e62f2"
   },
   "outputs": [
    {
     "data": {
      "text/html": [
       "<div>\n",
       "<style scoped>\n",
       "    .dataframe tbody tr th:only-of-type {\n",
       "        vertical-align: middle;\n",
       "    }\n",
       "\n",
       "    .dataframe tbody tr th {\n",
       "        vertical-align: top;\n",
       "    }\n",
       "\n",
       "    .dataframe thead th {\n",
       "        text-align: right;\n",
       "    }\n",
       "</style>\n",
       "<table border=\"1\" class=\"dataframe\">\n",
       "  <thead>\n",
       "    <tr style=\"text-align: right;\">\n",
       "      <th></th>\n",
       "      <th>Year</th>\n",
       "      <th>MAL_ID</th>\n",
       "    </tr>\n",
       "  </thead>\n",
       "  <tbody>\n",
       "    <tr>\n",
       "      <th>18</th>\n",
       "      <td>2017</td>\n",
       "      <td>6</td>\n",
       "    </tr>\n",
       "    <tr>\n",
       "      <th>21</th>\n",
       "      <td>2020</td>\n",
       "      <td>5</td>\n",
       "    </tr>\n",
       "    <tr>\n",
       "      <th>20</th>\n",
       "      <td>2019</td>\n",
       "      <td>4</td>\n",
       "    </tr>\n",
       "    <tr>\n",
       "      <th>15</th>\n",
       "      <td>2014</td>\n",
       "      <td>3</td>\n",
       "    </tr>\n",
       "    <tr>\n",
       "      <th>17</th>\n",
       "      <td>2016</td>\n",
       "      <td>3</td>\n",
       "    </tr>\n",
       "  </tbody>\n",
       "</table>\n",
       "</div>"
      ],
      "text/plain": [
       "    Year  MAL_ID\n",
       "18  2017       6\n",
       "21  2020       5\n",
       "20  2019       4\n",
       "15  2014       3\n",
       "17  2016       3"
      ]
     },
     "execution_count": 26,
     "metadata": {},
     "output_type": "execute_result"
    }
   ],
   "source": [
    "anime50_year =  pd.DataFrame(anime_50.groupby('Year').count()['MAL_ID']).reset_index()\n",
    "anime50_year.sort_values('MAL_ID', ascending = False).head(5)"
   ]
  },
  {
   "cell_type": "code",
   "execution_count": 27,
   "metadata": {
    "colab": {
     "base_uri": "https://localhost:8080/",
     "height": 265
    },
    "id": "_9jx4mOhfWv4",
    "outputId": "13ce7ba6-f8a4-4fc7-bdce-fc8da232f182"
   },
   "outputs": [
    {
     "data": {
      "image/png": "[encoded data removed]",
      "text/plain": [
       "<Figure size 640x480 with 1 Axes>"
      ]
     },
     "metadata": {},
     "output_type": "display_data"
    }
   ],
   "source": [
    "plt.plot(anime50_year['Year'], anime50_year['MAL_ID'])\n",
    "\n",
    "x_major_locator = MultipleLocator(5)\n",
    "y_major_locator = MultipleLocator(1)\n",
    "ax = plt.gca()\n",
    "ax.xaxis.set_major_locator(x_major_locator)\n",
    "ax.yaxis.set_major_locator(y_major_locator)\n",
    "plt.xlim(1980, 2020)\n",
    "plt.grid(color='r', linestyle='dotted', linewidth=1)\n",
    "plt.show()"
   ]
  },
  {
   "cell_type": "code",
   "execution_count": 28,
   "metadata": {
    "colab": {
     "base_uri": "https://localhost:8080/",
     "height": 265
    },
    "id": "hmEqqnenfWzM",
    "outputId": "0ce5b233-3a25-4bd0-ec56-e7007d5f2930"
   },
   "outputs": [
    {
     "data": {
      "text/plain": [
       "(-0.5, 1499.5, 999.5, -0.5)"
      ]
     },
     "execution_count": 28,
     "metadata": {},
     "output_type": "execute_result"
    },
    {
     "data": {
      "image/png": "[encoded data removed]",
      "text/plain": [
       "<Figure size 640x480 with 1 Axes>"
      ]
     },
     "metadata": {},
     "output_type": "display_data"
    }
   ],
   "source": [
    "from collections import defaultdict\n",
    "from wordcloud import WordCloud\n",
    "\n",
    "genres = defaultdict(int)\n",
    "for i in anime['Genres']:\n",
    "    for j in i:\n",
    "        genres[j.strip()] += 1\n",
    "        \n",
    "cloud = WordCloud(width=1500, height=1000, background_color='black', colormap='gnuplot').generate_from_frequencies(genres)\n",
    "plt.imshow(cloud)\n",
    "plt.axis('off')"
   ]
  },
  {
   "cell_type": "code",
   "execution_count": 32,
   "metadata": {
    "colab": {
     "base_uri": "https://localhost:8080/"
    },
    "id": "5aOJeXoQvZB7",
    "outputId": "b2c2f963-72fe-4913-d8fa-27b6d4822dd6"
   },
   "outputs": [
    {
     "name": "stdout",
     "output_type": "stream",
     "text": [
      "['TV', 'Movie', 'OVA', 'Special', 'ONA', 'Music']\n"
     ]
    }
   ],
   "source": [
    "anime1=pd.read_csv(\"/Users/adithyaabhishek/Desktop/USML/project/report/data/anime.csv\", dtype=str) \n",
    "anime1.drop(anime[anime['Type'] == 'Unknown'].index, inplace = True)\n",
    "unique_type = []\n",
    "for i in anime1['Type']:\n",
    "    if i not in unique_type:\n",
    "        unique_type.append(i)\n",
    "# unique_type = [i[0] for i in unique_type]\n",
    "print(unique_type)\n",
    "# import numpy as np\n",
    "# print(np.array(unique_type))"
   ]
  },
  {
   "cell_type": "code",
   "execution_count": 33,
   "metadata": {
    "colab": {
     "base_uri": "https://localhost:8080/"
    },
    "id": "IgkSeFMCvv1T",
    "outputId": "e1d76ed6-9be2-4963-ca6b-f488b1420ecf"
   },
   "outputs": [
    {
     "data": {
      "text/plain": [
       "{'TV': 4996,\n",
       " 'Movie': 3041,\n",
       " 'OVA': 3894,\n",
       " 'Special': 2218,\n",
       " 'ONA': 1907,\n",
       " 'Music': 1469}"
      ]
     },
     "execution_count": 33,
     "metadata": {},
     "output_type": "execute_result"
    }
   ],
   "source": [
    "counts_type = {}\n",
    "for i in unique_type:\n",
    "    counts_type[i] = (anime['Type'] == i).sum()\n",
    "counts_type"
   ]
  },
  {
   "cell_type": "code",
   "execution_count": 34,
   "metadata": {
    "id": "LOUib3BGv0QD"
   },
   "outputs": [],
   "source": [
    "type_name = counts_type.keys()\n",
    "type_values = counts_type.values()"
   ]
  },
  {
   "cell_type": "markdown",
   "metadata": {
    "id": "pbkebW0dwFbj"
   },
   "source": [
    "COUNTS OF TYPE OF ANIME"
   ]
  },
  {
   "cell_type": "code",
   "execution_count": 35,
   "metadata": {
    "colab": {
     "base_uri": "https://localhost:8080/",
     "height": 283
    },
    "id": "iM75uMLiwB6Q",
    "outputId": "5dcb8ffc-9cae-4918-ab2f-2d6b17a9f4f3"
   },
   "outputs": [
    {
     "data": {
      "text/plain": [
       "Text(0, 0.5, 'Coun')"
      ]
     },
     "execution_count": 35,
     "metadata": {},
     "output_type": "execute_result"
    },
    {
     "data": {
      "image/png": "[encoded data removed]",
      "text/plain": [
       "<Figure size 640x480 with 1 Axes>"
      ]
     },
     "metadata": {},
     "output_type": "display_data"
    }
   ],
   "source": [
    "plt.bar(type_name,type_values,width =0.8,color='#A473AB')\n",
    "plt.xlabel(\"Type of Anime\")\n",
    "plt.ylabel(\"Coun\")"
   ]
  },
  {
   "cell_type": "markdown",
   "metadata": {
    "id": "AevEMB0jECsn"
   },
   "source": [
    "## Content Based Filtering"
   ]
  },
  {
   "cell_type": "code",
   "execution_count": 60,
   "metadata": {
    "id": "2zipVPq41xJ0"
   },
   "outputs": [],
   "source": [
    "anime =  pd.read_csv('/Users/adithyaabhishek/Desktop/USML/project/report/data/anime.csv')\n",
    "usecols = ['MAL_ID', 'Name', 'sypnopsis']\n",
    "anime_desc = pd.read_csv('/Users/adithyaabhishek/Desktop/USML/project/report/data/anime_with_synopsis.csv', usecols=usecols)"
   ]
  },
  {
   "cell_type": "code",
   "execution_count": 61,
   "metadata": {
    "id": "QrgaxJxz2VK3"
   },
   "outputs": [],
   "source": [
    "anime['Score'] = anime['Score'].replace('Unknown', 0).astype(float)"
   ]
  },
  {
   "cell_type": "code",
   "execution_count": 62,
   "metadata": {
    "id": "65r0v5KH2VGi"
   },
   "outputs": [],
   "source": [
    "def categorize(df, col, is_multilabel=False):\n",
    "    binarizer = LabelBinarizer()\n",
    "    if is_multilabel:\n",
    "        binarizer = MultiLabelBinarizer()\n",
    "        \n",
    "    expandedLabelData = binarizer.fit_transform(df[col])\n",
    "    labelClasses = binarizer.classes_\n",
    "\n",
    "    category = pd.DataFrame(expandedLabelData, columns=labelClasses)\n",
    "    del df[col]\n",
    "    return pd.concat([df, category], axis=1)"
   ]
  },
  {
   "cell_type": "code",
   "execution_count": 63,
   "metadata": {
    "colab": {
     "base_uri": "https://localhost:8080/",
     "height": 253
    },
    "id": "fls6hfDY2fiv",
    "outputId": "a3797c08-ae8d-4129-a884-755b97f97ef3"
   },
   "outputs": [
    {
     "name": "stdout",
     "output_type": "stream",
     "text": [
      "(17562, 146)\n"
     ]
    },
    {
     "data": {
      "text/html": [
       "<div>\n",
       "<style scoped>\n",
       "    .dataframe tbody tr th:only-of-type {\n",
       "        vertical-align: middle;\n",
       "    }\n",
       "\n",
       "    .dataframe tbody tr th {\n",
       "        vertical-align: top;\n",
       "    }\n",
       "\n",
       "    .dataframe thead th {\n",
       "        text-align: right;\n",
       "    }\n",
       "</style>\n",
       "<table border=\"1\" class=\"dataframe\">\n",
       "  <thead>\n",
       "    <tr style=\"text-align: right;\">\n",
       "      <th></th>\n",
       "      <th>Movie</th>\n",
       "      <th>Music</th>\n",
       "      <th>ONA</th>\n",
       "      <th>OVA</th>\n",
       "      <th>Special</th>\n",
       "      <th>TV</th>\n",
       "      <th>4-koma manga</th>\n",
       "      <th>Book</th>\n",
       "      <th>Card game</th>\n",
       "      <th>Digital manga</th>\n",
       "      <th>...</th>\n",
       "      <th>v</th>\n",
       "      <th>w</th>\n",
       "      <th>x</th>\n",
       "      <th>y</th>\n",
       "      <th>z</th>\n",
       "      <th>°</th>\n",
       "      <th>²</th>\n",
       "      <th>é</th>\n",
       "      <th>ό</th>\n",
       "      <th>・</th>\n",
       "    </tr>\n",
       "  </thead>\n",
       "  <tbody>\n",
       "    <tr>\n",
       "      <th>0</th>\n",
       "      <td>0</td>\n",
       "      <td>0</td>\n",
       "      <td>0</td>\n",
       "      <td>0</td>\n",
       "      <td>0</td>\n",
       "      <td>1</td>\n",
       "      <td>0</td>\n",
       "      <td>0</td>\n",
       "      <td>0</td>\n",
       "      <td>0</td>\n",
       "      <td>...</td>\n",
       "      <td>0</td>\n",
       "      <td>0</td>\n",
       "      <td>0</td>\n",
       "      <td>0</td>\n",
       "      <td>0</td>\n",
       "      <td>0</td>\n",
       "      <td>0</td>\n",
       "      <td>0</td>\n",
       "      <td>0</td>\n",
       "      <td>0</td>\n",
       "    </tr>\n",
       "    <tr>\n",
       "      <th>1</th>\n",
       "      <td>1</td>\n",
       "      <td>0</td>\n",
       "      <td>0</td>\n",
       "      <td>0</td>\n",
       "      <td>0</td>\n",
       "      <td>0</td>\n",
       "      <td>0</td>\n",
       "      <td>0</td>\n",
       "      <td>0</td>\n",
       "      <td>0</td>\n",
       "      <td>...</td>\n",
       "      <td>0</td>\n",
       "      <td>0</td>\n",
       "      <td>0</td>\n",
       "      <td>0</td>\n",
       "      <td>0</td>\n",
       "      <td>0</td>\n",
       "      <td>0</td>\n",
       "      <td>0</td>\n",
       "      <td>0</td>\n",
       "      <td>0</td>\n",
       "    </tr>\n",
       "    <tr>\n",
       "      <th>2</th>\n",
       "      <td>0</td>\n",
       "      <td>0</td>\n",
       "      <td>0</td>\n",
       "      <td>0</td>\n",
       "      <td>0</td>\n",
       "      <td>1</td>\n",
       "      <td>0</td>\n",
       "      <td>0</td>\n",
       "      <td>0</td>\n",
       "      <td>0</td>\n",
       "      <td>...</td>\n",
       "      <td>0</td>\n",
       "      <td>0</td>\n",
       "      <td>0</td>\n",
       "      <td>0</td>\n",
       "      <td>0</td>\n",
       "      <td>0</td>\n",
       "      <td>0</td>\n",
       "      <td>0</td>\n",
       "      <td>0</td>\n",
       "      <td>0</td>\n",
       "    </tr>\n",
       "    <tr>\n",
       "      <th>3</th>\n",
       "      <td>0</td>\n",
       "      <td>0</td>\n",
       "      <td>0</td>\n",
       "      <td>0</td>\n",
       "      <td>0</td>\n",
       "      <td>1</td>\n",
       "      <td>0</td>\n",
       "      <td>0</td>\n",
       "      <td>0</td>\n",
       "      <td>0</td>\n",
       "      <td>...</td>\n",
       "      <td>0</td>\n",
       "      <td>0</td>\n",
       "      <td>0</td>\n",
       "      <td>0</td>\n",
       "      <td>0</td>\n",
       "      <td>0</td>\n",
       "      <td>0</td>\n",
       "      <td>0</td>\n",
       "      <td>0</td>\n",
       "      <td>0</td>\n",
       "    </tr>\n",
       "    <tr>\n",
       "      <th>4</th>\n",
       "      <td>0</td>\n",
       "      <td>0</td>\n",
       "      <td>0</td>\n",
       "      <td>0</td>\n",
       "      <td>0</td>\n",
       "      <td>1</td>\n",
       "      <td>0</td>\n",
       "      <td>0</td>\n",
       "      <td>0</td>\n",
       "      <td>0</td>\n",
       "      <td>...</td>\n",
       "      <td>0</td>\n",
       "      <td>0</td>\n",
       "      <td>0</td>\n",
       "      <td>0</td>\n",
       "      <td>0</td>\n",
       "      <td>0</td>\n",
       "      <td>0</td>\n",
       "      <td>0</td>\n",
       "      <td>0</td>\n",
       "      <td>0</td>\n",
       "    </tr>\n",
       "  </tbody>\n",
       "</table>\n",
       "<p>5 rows × 146 columns</p>\n",
       "</div>"
      ],
      "text/plain": [
       "   Movie  Music  ONA  OVA  Special  TV  4-koma manga  Book  Card game  \\\n",
       "0      0      0    0    0        0   1             0     0          0   \n",
       "1      1      0    0    0        0   0             0     0          0   \n",
       "2      0      0    0    0        0   1             0     0          0   \n",
       "3      0      0    0    0        0   1             0     0          0   \n",
       "4      0      0    0    0        0   1             0     0          0   \n",
       "\n",
       "   Digital manga  ...  v  w  x  y  z  °  ²  é  ό  ・  \n",
       "0              0  ...  0  0  0  0  0  0  0  0  0  0  \n",
       "1              0  ...  0  0  0  0  0  0  0  0  0  0  \n",
       "2              0  ...  0  0  0  0  0  0  0  0  0  0  \n",
       "3              0  ...  0  0  0  0  0  0  0  0  0  0  \n",
       "4              0  ...  0  0  0  0  0  0  0  0  0  0  \n",
       "\n",
       "[5 rows x 146 columns]"
      ]
     },
     "execution_count": 63,
     "metadata": {},
     "output_type": "execute_result"
    }
   ],
   "source": [
    "anime_metadata = anime[['MAL_ID', 'Name', 'Genres', 'Japanese name', 'Type', 'Studios', 'Source', 'Rating']].copy()\n",
    "\n",
    "anime_metadata = categorize(anime_metadata, 'Type')\n",
    "anime_metadata = categorize(anime_metadata, 'Source')\n",
    "anime_metadata = categorize(anime_metadata, 'Rating')\n",
    "anime_metadata = categorize(anime_metadata, 'Genres', is_multilabel=True)\n",
    "anime_metadata = categorize(anime_metadata, 'Studios', is_multilabel=True)\n",
    "\n",
    "anime_id = anime_metadata[['MAL_ID', 'Name', 'Japanese name']]\n",
    "\n",
    "del anime_metadata['Unknown']\n",
    "del anime_metadata['MAL_ID']\n",
    "del anime_metadata['Name']\n",
    "del anime_metadata['Japanese name']\n",
    "\n",
    "print(anime_metadata.shape)\n",
    "anime_metadata.head()"
   ]
  },
  {
   "cell_type": "code",
   "execution_count": 64,
   "metadata": {
    "colab": {
     "base_uri": "https://localhost:8080/",
     "height": 206
    },
    "id": "pfhvUAX92iw_",
    "outputId": "5bee7c21-d5f1-42cd-8d67-8babda7e1ba6"
   },
   "outputs": [
    {
     "data": {
      "text/html": [
       "<div>\n",
       "<style scoped>\n",
       "    .dataframe tbody tr th:only-of-type {\n",
       "        vertical-align: middle;\n",
       "    }\n",
       "\n",
       "    .dataframe tbody tr th {\n",
       "        vertical-align: top;\n",
       "    }\n",
       "\n",
       "    .dataframe thead th {\n",
       "        text-align: right;\n",
       "    }\n",
       "</style>\n",
       "<table border=\"1\" class=\"dataframe\">\n",
       "  <thead>\n",
       "    <tr style=\"text-align: right;\">\n",
       "      <th></th>\n",
       "      <th>MAL_ID</th>\n",
       "      <th>Name</th>\n",
       "      <th>sypnopsis</th>\n",
       "    </tr>\n",
       "  </thead>\n",
       "  <tbody>\n",
       "    <tr>\n",
       "      <th>0</th>\n",
       "      <td>1</td>\n",
       "      <td>Cowboy Bebop</td>\n",
       "      <td>In the year 2071, humanity has colonized sever...</td>\n",
       "    </tr>\n",
       "    <tr>\n",
       "      <th>1</th>\n",
       "      <td>5</td>\n",
       "      <td>Cowboy Bebop: Tengoku no Tobira</td>\n",
       "      <td>other day, another bounty—such is the life of ...</td>\n",
       "    </tr>\n",
       "    <tr>\n",
       "      <th>2</th>\n",
       "      <td>6</td>\n",
       "      <td>Trigun</td>\n",
       "      <td>Vash the Stampede is the man with a $$60,000,0...</td>\n",
       "    </tr>\n",
       "    <tr>\n",
       "      <th>3</th>\n",
       "      <td>7</td>\n",
       "      <td>Witch Hunter Robin</td>\n",
       "      <td>ches are individuals with special powers like ...</td>\n",
       "    </tr>\n",
       "    <tr>\n",
       "      <th>4</th>\n",
       "      <td>8</td>\n",
       "      <td>Bouken Ou Beet</td>\n",
       "      <td>It is the dark century and the people are suff...</td>\n",
       "    </tr>\n",
       "  </tbody>\n",
       "</table>\n",
       "</div>"
      ],
      "text/plain": [
       "  MAL_ID                             Name  \\\n",
       "0      1                     Cowboy Bebop   \n",
       "1      5  Cowboy Bebop: Tengoku no Tobira   \n",
       "2      6                           Trigun   \n",
       "3      7               Witch Hunter Robin   \n",
       "4      8                   Bouken Ou Beet   \n",
       "\n",
       "                                           sypnopsis  \n",
       "0  In the year 2071, humanity has colonized sever...  \n",
       "1  other day, another bounty—such is the life of ...  \n",
       "2  Vash the Stampede is the man with a $$60,000,0...  \n",
       "3  ches are individuals with special powers like ...  \n",
       "4  It is the dark century and the people are suff...  "
      ]
     },
     "execution_count": 64,
     "metadata": {},
     "output_type": "execute_result"
    }
   ],
   "source": [
    "anime_id = anime['MAL_ID'].copy()\n",
    "anime_metadata2 = pd.merge(anime_id, anime_desc, on='MAL_ID', how='left').fillna('').astype(str)\n",
    "anime_metadata2.head()"
   ]
  },
  {
   "cell_type": "code",
   "execution_count": 65,
   "metadata": {
    "colab": {
     "base_uri": "https://localhost:8080/"
    },
    "id": "zt8WXgb_2mz7",
    "outputId": "303c6ee6-9718-4131-905d-d9f81d95e170"
   },
   "outputs": [
    {
     "data": {
      "text/plain": [
       "(17562, 38694)"
      ]
     },
     "execution_count": 65,
     "metadata": {},
     "output_type": "execute_result"
    }
   ],
   "source": [
    "tfv = TfidfVectorizer(min_df=3, max_features=None,\n",
    "                      strip_accents='unicode', analyzer='word', token_pattern=r'\\w{1,}',\n",
    "                      ngram_range=(1, 3),\n",
    "                      stop_words = 'english')\n",
    "\n",
    "synopsis = anime_metadata2['sypnopsis']\n",
    "synopsis_tf_idf = tfv.fit_transform(synopsis)\n",
    "synopsis_tf_idf.shape"
   ]
  },
  {
   "cell_type": "code",
   "execution_count": 66,
   "metadata": {
    "id": "eIwnVcqb2qjN"
   },
   "outputs": [],
   "source": [
    "metadata_full = np.concatenate((anime_metadata.values, synopsis_tf_idf.todense()), axis=1)"
   ]
  },
  {
   "cell_type": "code",
   "execution_count": 67,
   "metadata": {
    "colab": {
     "base_uri": "https://localhost:8080/"
    },
    "id": "TVIcB172K2dT",
    "outputId": "5bd59ca1-6ccb-44a5-e6d7-289ce2d1785c"
   },
   "outputs": [
    {
     "data": {
      "text/plain": [
       "NearestNeighbors(metric='cosine', n_neighbors=9)"
      ]
     },
     "execution_count": 67,
     "metadata": {},
     "output_type": "execute_result"
    }
   ],
   "source": [
    "knn = NearestNeighbors(metric='cosine', n_neighbors=9)\n",
    "knn.fit(csr_matrix(metadata_full))"
   ]
  },
  {
   "cell_type": "code",
   "execution_count": 68,
   "metadata": {
    "id": "Ld053JYGTYsX"
   },
   "outputs": [],
   "source": [
    "# from sklearn.neighbors import KNeighborsClassifier\n",
    "# neigh = KNeighborsClassifier(n_neighbors=3)\n",
    "# neigh.fit(csr_matrix(all_meta_data)) \n",
    "# label=neigh.predict(csr_matrix(all_meta_data))"
   ]
  },
  {
   "cell_type": "code",
   "execution_count": 69,
   "metadata": {
    "id": "pt8LFUfJLEwE"
   },
   "outputs": [],
   "source": [
    "def recommend_content(query_index):\n",
    "    dist, indices = knn.kneighbors(metadata_full[query_index,:].reshape(1, -1), n_neighbors=11)\n",
    "    res = []\n",
    "    for i in range(0, len(dist.flatten())):\n",
    "        index = indices.flatten()[i]\n",
    "        if index == query_index:\n",
    "            continue\n",
    "        res.append(anime.iloc[index])\n",
    "    return pd.DataFrame(res)"
   ]
  },
  {
   "cell_type": "code",
   "execution_count": 70,
   "metadata": {
    "id": "_HIiivQR3x2k"
   },
   "outputs": [],
   "source": [
    "def search(keyword):\n",
    "    query1 = anime['Japanese name'].str.contains(keyword, case=False)\n",
    "    query2 = anime['English name'].str.contains(keyword, case=False)\n",
    "    print(anime[query1 | query2][['Name', 'Japanese name']].head(20))\n",
    "    return anime[query1 | query2].head(1).index"
   ]
  },
  {
   "cell_type": "code",
   "execution_count": 80,
   "metadata": {
    "colab": {
     "base_uri": "https://localhost:8080/",
     "height": 1000
    },
    "id": "DV_8D5trLL7B",
    "outputId": "11167108-8367-439e-dd48-23b5adc015a6",
    "scrolled": false
   },
   "outputs": [
    {
     "name": "stdout",
     "output_type": "stream",
     "text": [
      "                                                    Name  \\\n",
      "10                                                Naruto   \n",
      "696            Naruto: Akaki Yotsuba no Clover wo Sagase   \n",
      "1574                                  Naruto: Shippuuden   \n",
      "1963   Naruto Movie 3: Dai Koufun! Mikazuki Jima no A...   \n",
      "2267                          Naruto: Shippuuden Movie 1   \n",
      "3639                 Naruto: Shippuuden Movie 2 - Kizuna   \n",
      "4553   Naruto: Shippuuden Movie 3 - Hi no Ishi wo Tsu...   \n",
      "4985                             Naruto: The Cross Roads   \n",
      "5304         Naruto: Shippuuden Movie 4 - The Lost Tower   \n",
      "6285           Naruto: Shippuuden Movie 5 - Blood Prison   \n",
      "6309   Naruto Soyokazeden Movie: Naruto to Mashin to ...   \n",
      "6319   Naruto: Honoo no Chuunin Shiken! Naruto vs. Ko...   \n",
      "6875    Naruto SD: Rock Lee no Seishun Full-Power Ninden   \n",
      "8088              Naruto: Shippuuden - Sunny Side Battle   \n",
      "11340  Boruto: Naruto the Movie - Naruto ga Hokage ni...   \n",
      "\n",
      "                                   Japanese name  \n",
      "10                                           ナルト  \n",
      "696                           ナルト 紅き四つ葉のクローバーを探せ  \n",
      "1574                                    ナルト- 疾風伝  \n",
      "1963      劇場版 NARUTO -ナルト- 大興奮!みかづき島のアニマル騒動だってばよ  \n",
      "2267                         劇場版NARUTO -ナルト- 疾風伝  \n",
      "3639                        劇場版NARUTO-ナルト- 疾風伝 絆  \n",
      "4553                           ナルト- 疾風伝 火の意志を継ぐ者  \n",
      "4985                                ナルト サ・クロスローズ  \n",
      "5304                 劇場版 NARUTO-ナルト-疾風伝 ザ・ロストタワー  \n",
      "6285                    劇場版NARUTO-ナルト- ブラッド・プリズン  \n",
      "6309   劇場版NARUTO －ナルト－ そよ風伝 ナルトと魔神と3つのお願いだってばよ！！  \n",
      "6319                         炎の中忍試験! ナルトvs木ノ葉丸!!  \n",
      "6875                      ナルトSD ロック・リーの青春フルパワー忍伝  \n",
      "8088                  ナルト-NARUTO-疾風伝 サニー・サイド・バトル  \n",
      "11340      BORUTO -NARUTO THE MOVIE- ナルトが火影になった日  \n"
     ]
    },
    {
     "name": "stderr",
     "output_type": "stream",
     "text": [
      "/Users/adithyaabhishek/opt/anaconda3/lib/python3.9/site-packages/sklearn/utils/validation.py:593: FutureWarning: np.matrix usage is deprecated in 1.0 and will raise a TypeError in 1.2. Please convert to a numpy array with np.asarray. For more information see: https://numpy.org/doc/stable/reference/generated/numpy.matrix.html\n",
      "  warnings.warn(\n"
     ]
    },
    {
     "data": {
      "text/html": [
       "<div>\n",
       "<style scoped>\n",
       "    .dataframe tbody tr th:only-of-type {\n",
       "        vertical-align: middle;\n",
       "    }\n",
       "\n",
       "    .dataframe tbody tr th {\n",
       "        vertical-align: top;\n",
       "    }\n",
       "\n",
       "    .dataframe thead th {\n",
       "        text-align: right;\n",
       "    }\n",
       "</style>\n",
       "<table border=\"1\" class=\"dataframe\">\n",
       "  <thead>\n",
       "    <tr style=\"text-align: right;\">\n",
       "      <th></th>\n",
       "      <th>MAL_ID</th>\n",
       "      <th>Name</th>\n",
       "      <th>Score</th>\n",
       "      <th>Genres</th>\n",
       "      <th>English name</th>\n",
       "      <th>Japanese name</th>\n",
       "      <th>Type</th>\n",
       "      <th>Episodes</th>\n",
       "      <th>Aired</th>\n",
       "      <th>Premiered</th>\n",
       "      <th>...</th>\n",
       "      <th>Score-10</th>\n",
       "      <th>Score-9</th>\n",
       "      <th>Score-8</th>\n",
       "      <th>Score-7</th>\n",
       "      <th>Score-6</th>\n",
       "      <th>Score-5</th>\n",
       "      <th>Score-4</th>\n",
       "      <th>Score-3</th>\n",
       "      <th>Score-2</th>\n",
       "      <th>Score-1</th>\n",
       "    </tr>\n",
       "  </thead>\n",
       "  <tbody>\n",
       "    <tr>\n",
       "      <th>1574</th>\n",
       "      <td>1735</td>\n",
       "      <td>Naruto: Shippuuden</td>\n",
       "      <td>8.16</td>\n",
       "      <td>Action, Adventure, Comedy, Super Power, Martia...</td>\n",
       "      <td>Naruto:Shippuden</td>\n",
       "      <td>ナルト- 疾風伝</td>\n",
       "      <td>TV</td>\n",
       "      <td>500</td>\n",
       "      <td>Feb 15, 2007 to Mar 23, 2017</td>\n",
       "      <td>Winter 2007</td>\n",
       "      <td>...</td>\n",
       "      <td>249262.0</td>\n",
       "      <td>213677.0</td>\n",
       "      <td>239113.0</td>\n",
       "      <td>175685.0</td>\n",
       "      <td>75970.0</td>\n",
       "      <td>36221.0</td>\n",
       "      <td>15913.0</td>\n",
       "      <td>6661.0</td>\n",
       "      <td>3383.0</td>\n",
       "      <td>4245.0</td>\n",
       "    </tr>\n",
       "    <tr>\n",
       "      <th>12802</th>\n",
       "      <td>35072</td>\n",
       "      <td>Boruto: Jump Festa 2016 Special</td>\n",
       "      <td>6.22</td>\n",
       "      <td>Action, Adventure, Comedy, Super Power, Martia...</td>\n",
       "      <td>Unknown</td>\n",
       "      <td>BORUTOジャンプフェスタ 2016</td>\n",
       "      <td>Special</td>\n",
       "      <td>1</td>\n",
       "      <td>Nov 27, 2016</td>\n",
       "      <td>Unknown</td>\n",
       "      <td>...</td>\n",
       "      <td>331.0</td>\n",
       "      <td>175.0</td>\n",
       "      <td>386.0</td>\n",
       "      <td>1070.0</td>\n",
       "      <td>1274.0</td>\n",
       "      <td>774.0</td>\n",
       "      <td>330.0</td>\n",
       "      <td>112.0</td>\n",
       "      <td>78.0</td>\n",
       "      <td>114.0</td>\n",
       "    </tr>\n",
       "    <tr>\n",
       "      <th>245</th>\n",
       "      <td>269</td>\n",
       "      <td>Bleach</td>\n",
       "      <td>7.80</td>\n",
       "      <td>Action, Adventure, Comedy, Super Power, Supern...</td>\n",
       "      <td>Bleach</td>\n",
       "      <td>BLEACH - ブリーチ -</td>\n",
       "      <td>TV</td>\n",
       "      <td>366</td>\n",
       "      <td>Oct 5, 2004 to Mar 27, 2012</td>\n",
       "      <td>Fall 2004</td>\n",
       "      <td>...</td>\n",
       "      <td>116063.0</td>\n",
       "      <td>136177.0</td>\n",
       "      <td>192980.0</td>\n",
       "      <td>174721.0</td>\n",
       "      <td>81327.0</td>\n",
       "      <td>42155.0</td>\n",
       "      <td>16961.0</td>\n",
       "      <td>6766.0</td>\n",
       "      <td>3102.0</td>\n",
       "      <td>2906.0</td>\n",
       "    </tr>\n",
       "    <tr>\n",
       "      <th>12492</th>\n",
       "      <td>34566</td>\n",
       "      <td>Boruto: Naruto Next Generations</td>\n",
       "      <td>5.81</td>\n",
       "      <td>Action, Adventure, Super Power, Martial Arts, ...</td>\n",
       "      <td>Boruto:Naruto Next Generations</td>\n",
       "      <td>BORUTO -NARUTO NEXT GENERATIONS-</td>\n",
       "      <td>TV</td>\n",
       "      <td>Unknown</td>\n",
       "      <td>Apr 5, 2017 to ?</td>\n",
       "      <td>Spring 2017</td>\n",
       "      <td>...</td>\n",
       "      <td>13925.0</td>\n",
       "      <td>12533.0</td>\n",
       "      <td>26748.0</td>\n",
       "      <td>48401.0</td>\n",
       "      <td>46794.0</td>\n",
       "      <td>35149.0</td>\n",
       "      <td>26204.0</td>\n",
       "      <td>14066.0</td>\n",
       "      <td>9479.0</td>\n",
       "      <td>13039.0</td>\n",
       "    </tr>\n",
       "    <tr>\n",
       "      <th>5304</th>\n",
       "      <td>8246</td>\n",
       "      <td>Naruto: Shippuuden Movie 4 - The Lost Tower</td>\n",
       "      <td>7.42</td>\n",
       "      <td>Action, Comedy, Martial Arts, Shounen, Super P...</td>\n",
       "      <td>Unknown</td>\n",
       "      <td>劇場版 NARUTO-ナルト-疾風伝 ザ・ロストタワー</td>\n",
       "      <td>Movie</td>\n",
       "      <td>1</td>\n",
       "      <td>Jul 31, 2010</td>\n",
       "      <td>Unknown</td>\n",
       "      <td>...</td>\n",
       "      <td>11387.0</td>\n",
       "      <td>13079.0</td>\n",
       "      <td>24809.0</td>\n",
       "      <td>28116.0</td>\n",
       "      <td>13612.0</td>\n",
       "      <td>6106.0</td>\n",
       "      <td>2228.0</td>\n",
       "      <td>960.0</td>\n",
       "      <td>437.0</td>\n",
       "      <td>285.0</td>\n",
       "    </tr>\n",
       "    <tr>\n",
       "      <th>9862</th>\n",
       "      <td>28755</td>\n",
       "      <td>Boruto: Naruto the Movie</td>\n",
       "      <td>7.50</td>\n",
       "      <td>Action, Comedy, Martial Arts, Shounen, Super P...</td>\n",
       "      <td>Boruto:Naruto the Movie</td>\n",
       "      <td>BORUTO -NARUTO THE MOVIE-</td>\n",
       "      <td>Movie</td>\n",
       "      <td>1</td>\n",
       "      <td>Aug 7, 2015</td>\n",
       "      <td>Unknown</td>\n",
       "      <td>...</td>\n",
       "      <td>21653.0</td>\n",
       "      <td>30165.0</td>\n",
       "      <td>56070.0</td>\n",
       "      <td>55701.0</td>\n",
       "      <td>25203.0</td>\n",
       "      <td>10402.0</td>\n",
       "      <td>4074.0</td>\n",
       "      <td>1772.0</td>\n",
       "      <td>943.0</td>\n",
       "      <td>1074.0</td>\n",
       "    </tr>\n",
       "    <tr>\n",
       "      <th>4553</th>\n",
       "      <td>6325</td>\n",
       "      <td>Naruto: Shippuuden Movie 3 - Hi no Ishi wo Tsu...</td>\n",
       "      <td>7.35</td>\n",
       "      <td>Action, Comedy, Martial Arts, Shounen, Super P...</td>\n",
       "      <td>Unknown</td>\n",
       "      <td>ナルト- 疾風伝 火の意志を継ぐ者</td>\n",
       "      <td>Movie</td>\n",
       "      <td>1</td>\n",
       "      <td>Aug 1, 2009</td>\n",
       "      <td>Unknown</td>\n",
       "      <td>...</td>\n",
       "      <td>8769.0</td>\n",
       "      <td>10021.0</td>\n",
       "      <td>20222.0</td>\n",
       "      <td>26159.0</td>\n",
       "      <td>12201.0</td>\n",
       "      <td>5437.0</td>\n",
       "      <td>1827.0</td>\n",
       "      <td>715.0</td>\n",
       "      <td>322.0</td>\n",
       "      <td>245.0</td>\n",
       "    </tr>\n",
       "    <tr>\n",
       "      <th>6055</th>\n",
       "      <td>10075</td>\n",
       "      <td>Naruto x UT</td>\n",
       "      <td>7.40</td>\n",
       "      <td>Action, Comedy, Super Power, Martial Arts, Sho...</td>\n",
       "      <td>Unknown</td>\n",
       "      <td>NARUTO×UT</td>\n",
       "      <td>OVA</td>\n",
       "      <td>1</td>\n",
       "      <td>Jan 1, 2011</td>\n",
       "      <td>Unknown</td>\n",
       "      <td>...</td>\n",
       "      <td>3218.0</td>\n",
       "      <td>2549.0</td>\n",
       "      <td>4010.0</td>\n",
       "      <td>4857.0</td>\n",
       "      <td>2892.0</td>\n",
       "      <td>1510.0</td>\n",
       "      <td>435.0</td>\n",
       "      <td>230.0</td>\n",
       "      <td>127.0</td>\n",
       "      <td>172.0</td>\n",
       "    </tr>\n",
       "    <tr>\n",
       "      <th>214</th>\n",
       "      <td>238</td>\n",
       "      <td>Rekka no Honoo</td>\n",
       "      <td>7.36</td>\n",
       "      <td>Action, Adventure, Martial Arts, Shounen, Supe...</td>\n",
       "      <td>Flame of Recca</td>\n",
       "      <td>烈火の炎</td>\n",
       "      <td>TV</td>\n",
       "      <td>42</td>\n",
       "      <td>Jul 19, 1997 to Jul 10, 1998</td>\n",
       "      <td>Summer 1997</td>\n",
       "      <td>...</td>\n",
       "      <td>1668.0</td>\n",
       "      <td>2980.0</td>\n",
       "      <td>6203.0</td>\n",
       "      <td>7513.0</td>\n",
       "      <td>3338.0</td>\n",
       "      <td>1659.0</td>\n",
       "      <td>575.0</td>\n",
       "      <td>205.0</td>\n",
       "      <td>98.0</td>\n",
       "      <td>89.0</td>\n",
       "    </tr>\n",
       "    <tr>\n",
       "      <th>6285</th>\n",
       "      <td>10589</td>\n",
       "      <td>Naruto: Shippuuden Movie 5 - Blood Prison</td>\n",
       "      <td>7.46</td>\n",
       "      <td>Action, Adventure, Martial Arts, Super Power, ...</td>\n",
       "      <td>Unknown</td>\n",
       "      <td>劇場版NARUTO-ナルト- ブラッド・プリズン</td>\n",
       "      <td>Movie</td>\n",
       "      <td>1</td>\n",
       "      <td>Jul 30, 2011</td>\n",
       "      <td>Unknown</td>\n",
       "      <td>...</td>\n",
       "      <td>10644.0</td>\n",
       "      <td>12623.0</td>\n",
       "      <td>24147.0</td>\n",
       "      <td>26212.0</td>\n",
       "      <td>12341.0</td>\n",
       "      <td>5381.0</td>\n",
       "      <td>1945.0</td>\n",
       "      <td>736.0</td>\n",
       "      <td>395.0</td>\n",
       "      <td>293.0</td>\n",
       "    </tr>\n",
       "  </tbody>\n",
       "</table>\n",
       "<p>10 rows × 35 columns</p>\n",
       "</div>"
      ],
      "text/plain": [
       "       MAL_ID                                               Name  Score  \\\n",
       "1574     1735                                 Naruto: Shippuuden   8.16   \n",
       "12802   35072                    Boruto: Jump Festa 2016 Special   6.22   \n",
       "245       269                                             Bleach   7.80   \n",
       "12492   34566                    Boruto: Naruto Next Generations   5.81   \n",
       "5304     8246        Naruto: Shippuuden Movie 4 - The Lost Tower   7.42   \n",
       "9862    28755                           Boruto: Naruto the Movie   7.50   \n",
       "4553     6325  Naruto: Shippuuden Movie 3 - Hi no Ishi wo Tsu...   7.35   \n",
       "6055    10075                                        Naruto x UT   7.40   \n",
       "214       238                                     Rekka no Honoo   7.36   \n",
       "6285    10589          Naruto: Shippuuden Movie 5 - Blood Prison   7.46   \n",
       "\n",
       "                                                  Genres  \\\n",
       "1574   Action, Adventure, Comedy, Super Power, Martia...   \n",
       "12802  Action, Adventure, Comedy, Super Power, Martia...   \n",
       "245    Action, Adventure, Comedy, Super Power, Supern...   \n",
       "12492  Action, Adventure, Super Power, Martial Arts, ...   \n",
       "5304   Action, Comedy, Martial Arts, Shounen, Super P...   \n",
       "9862   Action, Comedy, Martial Arts, Shounen, Super P...   \n",
       "4553   Action, Comedy, Martial Arts, Shounen, Super P...   \n",
       "6055   Action, Comedy, Super Power, Martial Arts, Sho...   \n",
       "214    Action, Adventure, Martial Arts, Shounen, Supe...   \n",
       "6285   Action, Adventure, Martial Arts, Super Power, ...   \n",
       "\n",
       "                         English name                     Japanese name  \\\n",
       "1574                 Naruto:Shippuden                          ナルト- 疾風伝   \n",
       "12802                         Unknown               BORUTOジャンプフェスタ 2016   \n",
       "245                            Bleach                   BLEACH - ブリーチ -   \n",
       "12492  Boruto:Naruto Next Generations  BORUTO -NARUTO NEXT GENERATIONS-   \n",
       "5304                          Unknown       劇場版 NARUTO-ナルト-疾風伝 ザ・ロストタワー   \n",
       "9862          Boruto:Naruto the Movie         BORUTO -NARUTO THE MOVIE-   \n",
       "4553                          Unknown                 ナルト- 疾風伝 火の意志を継ぐ者   \n",
       "6055                          Unknown                         NARUTO×UT   \n",
       "214                    Flame of Recca                              烈火の炎   \n",
       "6285                          Unknown          劇場版NARUTO-ナルト- ブラッド・プリズン   \n",
       "\n",
       "          Type Episodes                         Aired    Premiered  ...  \\\n",
       "1574        TV      500  Feb 15, 2007 to Mar 23, 2017  Winter 2007  ...   \n",
       "12802  Special        1                  Nov 27, 2016      Unknown  ...   \n",
       "245         TV      366   Oct 5, 2004 to Mar 27, 2012    Fall 2004  ...   \n",
       "12492       TV  Unknown              Apr 5, 2017 to ?  Spring 2017  ...   \n",
       "5304     Movie        1                  Jul 31, 2010      Unknown  ...   \n",
       "9862     Movie        1                   Aug 7, 2015      Unknown  ...   \n",
       "4553     Movie        1                   Aug 1, 2009      Unknown  ...   \n",
       "6055       OVA        1                   Jan 1, 2011      Unknown  ...   \n",
       "214         TV       42  Jul 19, 1997 to Jul 10, 1998  Summer 1997  ...   \n",
       "6285     Movie        1                  Jul 30, 2011      Unknown  ...   \n",
       "\n",
       "       Score-10   Score-9   Score-8   Score-7  Score-6  Score-5  Score-4  \\\n",
       "1574   249262.0  213677.0  239113.0  175685.0  75970.0  36221.0  15913.0   \n",
       "12802     331.0     175.0     386.0    1070.0   1274.0    774.0    330.0   \n",
       "245    116063.0  136177.0  192980.0  174721.0  81327.0  42155.0  16961.0   \n",
       "12492   13925.0   12533.0   26748.0   48401.0  46794.0  35149.0  26204.0   \n",
       "5304    11387.0   13079.0   24809.0   28116.0  13612.0   6106.0   2228.0   \n",
       "9862    21653.0   30165.0   56070.0   55701.0  25203.0  10402.0   4074.0   \n",
       "4553     8769.0   10021.0   20222.0   26159.0  12201.0   5437.0   1827.0   \n",
       "6055     3218.0    2549.0    4010.0    4857.0   2892.0   1510.0    435.0   \n",
       "214      1668.0    2980.0    6203.0    7513.0   3338.0   1659.0    575.0   \n",
       "6285    10644.0   12623.0   24147.0   26212.0  12341.0   5381.0   1945.0   \n",
       "\n",
       "       Score-3  Score-2  Score-1  \n",
       "1574    6661.0   3383.0   4245.0  \n",
       "12802    112.0     78.0    114.0  \n",
       "245     6766.0   3102.0   2906.0  \n",
       "12492  14066.0   9479.0  13039.0  \n",
       "5304     960.0    437.0    285.0  \n",
       "9862    1772.0    943.0   1074.0  \n",
       "4553     715.0    322.0    245.0  \n",
       "6055     230.0    127.0    172.0  \n",
       "214      205.0     98.0     89.0  \n",
       "6285     736.0    395.0    293.0  \n",
       "\n",
       "[10 rows x 35 columns]"
      ]
     },
     "execution_count": 80,
     "metadata": {},
     "output_type": "execute_result"
    }
   ],
   "source": [
    "# recommend_content(search('この音とまれ！'))\n",
    "recommend_content(search('ナルト'))\n"
   ]
  },
  {
   "cell_type": "markdown",
   "metadata": {
    "id": "-jSroaTaF6jk"
   },
   "source": [
    "## Collaborative Filtering"
   ]
  },
  {
   "cell_type": "code",
   "execution_count": 82,
   "metadata": {
    "colab": {
     "base_uri": "https://localhost:8080/",
     "height": 206
    },
    "id": "gTAFqWZLE10i",
    "outputId": "1b1c21cc-91e2-4cbc-b2c6-9715ccd6fd97"
   },
   "outputs": [
    {
     "data": {
      "text/html": [
       "<div>\n",
       "<style scoped>\n",
       "    .dataframe tbody tr th:only-of-type {\n",
       "        vertical-align: middle;\n",
       "    }\n",
       "\n",
       "    .dataframe tbody tr th {\n",
       "        vertical-align: top;\n",
       "    }\n",
       "\n",
       "    .dataframe thead th {\n",
       "        text-align: right;\n",
       "    }\n",
       "</style>\n",
       "<table border=\"1\" class=\"dataframe\">\n",
       "  <thead>\n",
       "    <tr style=\"text-align: right;\">\n",
       "      <th></th>\n",
       "      <th>user_id</th>\n",
       "      <th>anime_count</th>\n",
       "    </tr>\n",
       "  </thead>\n",
       "  <tbody>\n",
       "    <tr>\n",
       "      <th>0</th>\n",
       "      <td>0</td>\n",
       "      <td>35</td>\n",
       "    </tr>\n",
       "    <tr>\n",
       "      <th>1</th>\n",
       "      <td>1</td>\n",
       "      <td>103</td>\n",
       "    </tr>\n",
       "    <tr>\n",
       "      <th>2</th>\n",
       "      <td>2</td>\n",
       "      <td>51</td>\n",
       "    </tr>\n",
       "    <tr>\n",
       "      <th>3</th>\n",
       "      <td>3</td>\n",
       "      <td>315</td>\n",
       "    </tr>\n",
       "    <tr>\n",
       "      <th>4</th>\n",
       "      <td>4</td>\n",
       "      <td>118</td>\n",
       "    </tr>\n",
       "  </tbody>\n",
       "</table>\n",
       "</div>"
      ],
      "text/plain": [
       "   user_id  anime_count\n",
       "0        0           35\n",
       "1        1          103\n",
       "2        2           51\n",
       "3        3          315\n",
       "4        4          118"
      ]
     },
     "execution_count": 82,
     "metadata": {},
     "output_type": "execute_result"
    }
   ],
   "source": [
    "rating = pd.read_csv('/Users/adithyaabhishek/Desktop/USML/project/report/data/rating_complete.csv')\n",
    "user_anime = rating.groupby('user_id').size().reset_index()\n",
    "user_anime.columns = ['user_id', 'anime_count']\n",
    "user_anime.head()"
   ]
  },
  {
   "cell_type": "code",
   "execution_count": 83,
   "metadata": {
    "colab": {
     "base_uri": "https://localhost:8080/",
     "height": 279
    },
    "id": "CrGg6l5UE1gq",
    "outputId": "aeed9c8b-27bd-4b13-c846-d4b58946edc6"
   },
   "outputs": [
    {
     "data": {
      "image/png": "[encoded data removed]",
      "text/plain": [
       "<Figure size 640x480 with 1 Axes>"
      ]
     },
     "metadata": {},
     "output_type": "display_data"
    }
   ],
   "source": [
    "cdf = user_anime['anime_count'].value_counts().sort_index().cumsum()\n",
    "\n",
    "plt.plot(list(cdf.index), cdf/cdf.max())\n",
    "plt.xlabel('Value')\n",
    "plt.ylabel('ECDF')\n",
    "plt.ylim([-0.05,1.05])\n",
    "plt.show()"
   ]
  },
  {
   "cell_type": "code",
   "execution_count": 84,
   "metadata": {
    "colab": {
     "base_uri": "https://localhost:8080/"
    },
    "id": "P2yTF23kE1Xl",
    "outputId": "7029dd15-7c35-4f39-8110-80c57b375c41"
   },
   "outputs": [],
   "source": [
    "set_of_filtered_users = user_anime[user_anime['anime_count'] > 280]\n",
    "users = set(set_of_filtered_users['user_id'])"
   ]
  },
  {
   "cell_type": "code",
   "execution_count": 85,
   "metadata": {
    "colab": {
     "base_uri": "https://localhost:8080/"
    },
    "id": "p4TNIvJvE1Mc",
    "outputId": "f87a9bc2-897d-4627-9cf5-1972d64c3251"
   },
   "outputs": [],
   "source": [
    "rating_info = rating[rating['user_id'].isin(users)]"
   ]
  },
  {
   "cell_type": "code",
   "execution_count": 86,
   "metadata": {
    "colab": {
     "base_uri": "https://localhost:8080/"
    },
    "id": "mHG-gvAbE0_t",
    "outputId": "813733a2-2639-4da5-f73b-7d356fe96d52"
   },
   "outputs": [
    {
     "name": "stdout",
     "output_type": "stream",
     "text": [
      "17562 62086\n"
     ]
    }
   ],
   "source": [
    "anime =  pd.read_csv('/Users/adithyaabhishek/Desktop/USML/project/report/data/anime.csv')\n",
    "unq_users = {int(x): i for i,x in enumerate(rating_info['user_id'].unique())}\n",
    "unq_items = {int(x): i for i,x in enumerate(anime['MAL_ID'].unique())}\n",
    "\n",
    "print(len(unq_items), len(unq_users))\n",
    "anime_collabolative_filter = np.zeros((len(unq_items), len(unq_users)))\n",
    "\n",
    "for user_id, anime_id, rating in rating_info.values:\n",
    "    anime_collabolative_filter[unq_items[anime_id], unq_users[user_id]] = rating\n"
   ]
  },
  {
   "cell_type": "code",
   "execution_count": 87,
   "metadata": {
    "colab": {
     "base_uri": "https://localhost:8080/",
     "height": 329
    },
    "id": "-312eTagGnQa",
    "outputId": "48266906-c6f8-45e7-eaaa-b8f9decf1af8"
   },
   "outputs": [
    {
     "data": {
      "text/plain": [
       "NearestNeighbors(metric='cosine', n_neighbors=9)"
      ]
     },
     "execution_count": 87,
     "metadata": {},
     "output_type": "execute_result"
    }
   ],
   "source": [
    "knn = NearestNeighbors(metric='cosine', n_neighbors=9)\n",
    "knn.fit(anime_collabolative_filter)"
   ]
  },
  {
   "cell_type": "code",
   "execution_count": 88,
   "metadata": {
    "id": "HEgtbMJiGoxj"
   },
   "outputs": [],
   "source": [
    "def cf_recommend_anime(query_index):\n",
    "    dist, indices = knn.kneighbors(anime_collabolative_filter[query_index,:].reshape(1, -1), n_neighbors=11)\n",
    "    res = []\n",
    "    for i in range(0, len(dist.flatten())):\n",
    "        index = indices.flatten()[i]\n",
    "        if index == query_index:\n",
    "            continue\n",
    "        res.append(anime.iloc[index])\n",
    "        \n",
    "    return pd.DataFrame(res)"
   ]
  },
  {
   "cell_type": "code",
   "execution_count": 89,
   "metadata": {
    "id": "pf_ByY_SGolY",
    "outputId": "26f8fa6b-5d8d-4135-c6a2-476923ccfd19",
    "scrolled": false
   },
   "outputs": [
    {
     "name": "stdout",
     "output_type": "stream",
     "text": [
      "                                                    Name  \\\n",
      "10                                                Naruto   \n",
      "696            Naruto: Akaki Yotsuba no Clover wo Sagase   \n",
      "1574                                  Naruto: Shippuuden   \n",
      "1963   Naruto Movie 3: Dai Koufun! Mikazuki Jima no A...   \n",
      "2267                          Naruto: Shippuuden Movie 1   \n",
      "3639                 Naruto: Shippuuden Movie 2 - Kizuna   \n",
      "4553   Naruto: Shippuuden Movie 3 - Hi no Ishi wo Tsu...   \n",
      "4985                             Naruto: The Cross Roads   \n",
      "5304         Naruto: Shippuuden Movie 4 - The Lost Tower   \n",
      "6285           Naruto: Shippuuden Movie 5 - Blood Prison   \n",
      "6309   Naruto Soyokazeden Movie: Naruto to Mashin to ...   \n",
      "6319   Naruto: Honoo no Chuunin Shiken! Naruto vs. Ko...   \n",
      "6875    Naruto SD: Rock Lee no Seishun Full-Power Ninden   \n",
      "8088              Naruto: Shippuuden - Sunny Side Battle   \n",
      "11340  Boruto: Naruto the Movie - Naruto ga Hokage ni...   \n",
      "\n",
      "                                   Japanese name  \n",
      "10                                           ナルト  \n",
      "696                           ナルト 紅き四つ葉のクローバーを探せ  \n",
      "1574                                    ナルト- 疾風伝  \n",
      "1963      劇場版 NARUTO -ナルト- 大興奮!みかづき島のアニマル騒動だってばよ  \n",
      "2267                         劇場版NARUTO -ナルト- 疾風伝  \n",
      "3639                        劇場版NARUTO-ナルト- 疾風伝 絆  \n",
      "4553                           ナルト- 疾風伝 火の意志を継ぐ者  \n",
      "4985                                ナルト サ・クロスローズ  \n",
      "5304                 劇場版 NARUTO-ナルト-疾風伝 ザ・ロストタワー  \n",
      "6285                    劇場版NARUTO-ナルト- ブラッド・プリズン  \n",
      "6309   劇場版NARUTO －ナルト－ そよ風伝 ナルトと魔神と3つのお願いだってばよ！！  \n",
      "6319                         炎の中忍試験! ナルトvs木ノ葉丸!!  \n",
      "6875                      ナルトSD ロック・リーの青春フルパワー忍伝  \n",
      "8088                  ナルト-NARUTO-疾風伝 サニー・サイド・バトル  \n",
      "11340      BORUTO -NARUTO THE MOVIE- ナルトが火影になった日  \n"
     ]
    },
    {
     "data": {
      "text/html": [
       "<div>\n",
       "<style scoped>\n",
       "    .dataframe tbody tr th:only-of-type {\n",
       "        vertical-align: middle;\n",
       "    }\n",
       "\n",
       "    .dataframe tbody tr th {\n",
       "        vertical-align: top;\n",
       "    }\n",
       "\n",
       "    .dataframe thead th {\n",
       "        text-align: right;\n",
       "    }\n",
       "</style>\n",
       "<table border=\"1\" class=\"dataframe\">\n",
       "  <thead>\n",
       "    <tr style=\"text-align: right;\">\n",
       "      <th></th>\n",
       "      <th>MAL_ID</th>\n",
       "      <th>Name</th>\n",
       "      <th>Score</th>\n",
       "      <th>Genres</th>\n",
       "      <th>English name</th>\n",
       "      <th>Japanese name</th>\n",
       "      <th>Type</th>\n",
       "      <th>Episodes</th>\n",
       "      <th>Aired</th>\n",
       "      <th>Premiered</th>\n",
       "      <th>...</th>\n",
       "      <th>Score-10</th>\n",
       "      <th>Score-9</th>\n",
       "      <th>Score-8</th>\n",
       "      <th>Score-7</th>\n",
       "      <th>Score-6</th>\n",
       "      <th>Score-5</th>\n",
       "      <th>Score-4</th>\n",
       "      <th>Score-3</th>\n",
       "      <th>Score-2</th>\n",
       "      <th>Score-1</th>\n",
       "    </tr>\n",
       "  </thead>\n",
       "  <tbody>\n",
       "    <tr>\n",
       "      <th>1393</th>\n",
       "      <td>1535</td>\n",
       "      <td>Death Note</td>\n",
       "      <td>8.63</td>\n",
       "      <td>Mystery, Police, Psychological, Supernatural, ...</td>\n",
       "      <td>Death Note</td>\n",
       "      <td>デスノート</td>\n",
       "      <td>TV</td>\n",
       "      <td>37</td>\n",
       "      <td>Oct 4, 2006 to Jun 27, 2007</td>\n",
       "      <td>Fall 2006</td>\n",
       "      <td>...</td>\n",
       "      <td>557406.0</td>\n",
       "      <td>535252.0</td>\n",
       "      <td>415890.0</td>\n",
       "      <td>201522.0</td>\n",
       "      <td>68577.0</td>\n",
       "      <td>28048.0</td>\n",
       "      <td>10462.0</td>\n",
       "      <td>3692.0</td>\n",
       "      <td>2256.0</td>\n",
       "      <td>3586.0</td>\n",
       "    </tr>\n",
       "    <tr>\n",
       "      <th>7449</th>\n",
       "      <td>16498</td>\n",
       "      <td>Shingeki no Kyojin</td>\n",
       "      <td>8.48</td>\n",
       "      <td>Action, Military, Mystery, Super Power, Drama,...</td>\n",
       "      <td>Attack on Titan</td>\n",
       "      <td>進撃の巨人</td>\n",
       "      <td>TV</td>\n",
       "      <td>25</td>\n",
       "      <td>Apr 7, 2013 to Sep 29, 2013</td>\n",
       "      <td>Spring 2013</td>\n",
       "      <td>...</td>\n",
       "      <td>470882.0</td>\n",
       "      <td>514879.0</td>\n",
       "      <td>459113.0</td>\n",
       "      <td>220228.0</td>\n",
       "      <td>70768.0</td>\n",
       "      <td>31141.0</td>\n",
       "      <td>11805.0</td>\n",
       "      <td>4637.0</td>\n",
       "      <td>2707.0</td>\n",
       "      <td>4939.0</td>\n",
       "    </tr>\n",
       "    <tr>\n",
       "      <th>6614</th>\n",
       "      <td>11757</td>\n",
       "      <td>Sword Art Online</td>\n",
       "      <td>7.25</td>\n",
       "      <td>Action, Game, Adventure, Romance, Fantasy</td>\n",
       "      <td>Sword Art Online</td>\n",
       "      <td>ソードアート・オンライン</td>\n",
       "      <td>TV</td>\n",
       "      <td>25</td>\n",
       "      <td>Jul 8, 2012 to Dec 23, 2012</td>\n",
       "      <td>Summer 2012</td>\n",
       "      <td>...</td>\n",
       "      <td>241049.0</td>\n",
       "      <td>236672.0</td>\n",
       "      <td>305386.0</td>\n",
       "      <td>303813.0</td>\n",
       "      <td>188431.0</td>\n",
       "      <td>124819.0</td>\n",
       "      <td>81155.0</td>\n",
       "      <td>44204.0</td>\n",
       "      <td>25371.0</td>\n",
       "      <td>23472.0</td>\n",
       "    </tr>\n",
       "    <tr>\n",
       "      <th>1574</th>\n",
       "      <td>1735</td>\n",
       "      <td>Naruto: Shippuuden</td>\n",
       "      <td>8.16</td>\n",
       "      <td>Action, Adventure, Comedy, Super Power, Martia...</td>\n",
       "      <td>Naruto:Shippuden</td>\n",
       "      <td>ナルト- 疾風伝</td>\n",
       "      <td>TV</td>\n",
       "      <td>500</td>\n",
       "      <td>Feb 15, 2007 to Mar 23, 2017</td>\n",
       "      <td>Winter 2007</td>\n",
       "      <td>...</td>\n",
       "      <td>249262.0</td>\n",
       "      <td>213677.0</td>\n",
       "      <td>239113.0</td>\n",
       "      <td>175685.0</td>\n",
       "      <td>75970.0</td>\n",
       "      <td>36221.0</td>\n",
       "      <td>15913.0</td>\n",
       "      <td>6661.0</td>\n",
       "      <td>3383.0</td>\n",
       "      <td>4245.0</td>\n",
       "    </tr>\n",
       "    <tr>\n",
       "      <th>3971</th>\n",
       "      <td>5114</td>\n",
       "      <td>Fullmetal Alchemist: Brotherhood</td>\n",
       "      <td>9.19</td>\n",
       "      <td>Action, Military, Adventure, Comedy, Drama, Ma...</td>\n",
       "      <td>Fullmetal Alchemist:Brotherhood</td>\n",
       "      <td>鋼の錬金術師 FULLMETAL ALCHEMIST</td>\n",
       "      <td>TV</td>\n",
       "      <td>64</td>\n",
       "      <td>Apr 5, 2009 to Jul 4, 2010</td>\n",
       "      <td>Spring 2009</td>\n",
       "      <td>...</td>\n",
       "      <td>714811.0</td>\n",
       "      <td>401507.0</td>\n",
       "      <td>199160.0</td>\n",
       "      <td>70045.0</td>\n",
       "      <td>20210.0</td>\n",
       "      <td>9308.0</td>\n",
       "      <td>3222.0</td>\n",
       "      <td>1536.0</td>\n",
       "      <td>2162.0</td>\n",
       "      <td>16806.0</td>\n",
       "    </tr>\n",
       "    <tr>\n",
       "      <th>10451</th>\n",
       "      <td>30276</td>\n",
       "      <td>One Punch Man</td>\n",
       "      <td>8.57</td>\n",
       "      <td>Action, Sci-Fi, Comedy, Parody, Super Power, S...</td>\n",
       "      <td>One Punch Man</td>\n",
       "      <td>ワンパンマン</td>\n",
       "      <td>TV</td>\n",
       "      <td>12</td>\n",
       "      <td>Oct 5, 2015 to Dec 21, 2015</td>\n",
       "      <td>Fall 2015</td>\n",
       "      <td>...</td>\n",
       "      <td>360187.0</td>\n",
       "      <td>465041.0</td>\n",
       "      <td>403832.0</td>\n",
       "      <td>172181.0</td>\n",
       "      <td>47365.0</td>\n",
       "      <td>17873.0</td>\n",
       "      <td>5706.0</td>\n",
       "      <td>2279.0</td>\n",
       "      <td>1448.0</td>\n",
       "      <td>2733.0</td>\n",
       "    </tr>\n",
       "    <tr>\n",
       "      <th>5975</th>\n",
       "      <td>9919</td>\n",
       "      <td>Ao no Exorcist</td>\n",
       "      <td>7.59</td>\n",
       "      <td>Action, Demons, Fantasy, Shounen, Supernatural</td>\n",
       "      <td>Blue Exorcist</td>\n",
       "      <td>青の祓魔師(エクソシスト)</td>\n",
       "      <td>TV</td>\n",
       "      <td>25</td>\n",
       "      <td>Apr 17, 2011 to Oct 2, 2011</td>\n",
       "      <td>Spring 2011</td>\n",
       "      <td>...</td>\n",
       "      <td>80157.0</td>\n",
       "      <td>137344.0</td>\n",
       "      <td>248970.0</td>\n",
       "      <td>240338.0</td>\n",
       "      <td>99008.0</td>\n",
       "      <td>40731.0</td>\n",
       "      <td>13431.0</td>\n",
       "      <td>4567.0</td>\n",
       "      <td>1786.0</td>\n",
       "      <td>1448.0</td>\n",
       "    </tr>\n",
       "    <tr>\n",
       "      <th>8646</th>\n",
       "      <td>22319</td>\n",
       "      <td>Tokyo Ghoul</td>\n",
       "      <td>7.81</td>\n",
       "      <td>Action, Mystery, Horror, Psychological, Supern...</td>\n",
       "      <td>Tokyo Ghoul</td>\n",
       "      <td>東京喰種-トーキョーグール-</td>\n",
       "      <td>TV</td>\n",
       "      <td>12</td>\n",
       "      <td>Jul 4, 2014 to Sep 19, 2014</td>\n",
       "      <td>Summer 2014</td>\n",
       "      <td>...</td>\n",
       "      <td>190342.0</td>\n",
       "      <td>250814.0</td>\n",
       "      <td>348603.0</td>\n",
       "      <td>261579.0</td>\n",
       "      <td>112177.0</td>\n",
       "      <td>51649.0</td>\n",
       "      <td>24805.0</td>\n",
       "      <td>10284.0</td>\n",
       "      <td>5144.0</td>\n",
       "      <td>4794.0</td>\n",
       "    </tr>\n",
       "    <tr>\n",
       "      <th>1431</th>\n",
       "      <td>1575</td>\n",
       "      <td>Code Geass: Hangyaku no Lelouch</td>\n",
       "      <td>8.72</td>\n",
       "      <td>Action, Military, Sci-Fi, Super Power, Drama, ...</td>\n",
       "      <td>Code Geass:Lelouch of the Rebellion</td>\n",
       "      <td>コードギアス 反逆のルルーシュ</td>\n",
       "      <td>TV</td>\n",
       "      <td>25</td>\n",
       "      <td>Oct 6, 2006 to Jul 29, 2007</td>\n",
       "      <td>Fall 2006</td>\n",
       "      <td>...</td>\n",
       "      <td>326710.0</td>\n",
       "      <td>309688.0</td>\n",
       "      <td>213516.0</td>\n",
       "      <td>93305.0</td>\n",
       "      <td>31697.0</td>\n",
       "      <td>14686.0</td>\n",
       "      <td>7065.0</td>\n",
       "      <td>3100.0</td>\n",
       "      <td>1630.0</td>\n",
       "      <td>2621.0</td>\n",
       "    </tr>\n",
       "    <tr>\n",
       "      <th>11185</th>\n",
       "      <td>31964</td>\n",
       "      <td>Boku no Hero Academia</td>\n",
       "      <td>8.11</td>\n",
       "      <td>Action, Comedy, School, Shounen, Super Power</td>\n",
       "      <td>My Hero Academia</td>\n",
       "      <td>僕のヒーローアカデミア</td>\n",
       "      <td>TV</td>\n",
       "      <td>13</td>\n",
       "      <td>Apr 3, 2016 to Jun 26, 2016</td>\n",
       "      <td>Spring 2016</td>\n",
       "      <td>...</td>\n",
       "      <td>192539.0</td>\n",
       "      <td>318675.0</td>\n",
       "      <td>414913.0</td>\n",
       "      <td>253871.0</td>\n",
       "      <td>77961.0</td>\n",
       "      <td>29893.0</td>\n",
       "      <td>9015.0</td>\n",
       "      <td>3664.0</td>\n",
       "      <td>1807.0</td>\n",
       "      <td>3129.0</td>\n",
       "    </tr>\n",
       "  </tbody>\n",
       "</table>\n",
       "<p>10 rows × 35 columns</p>\n",
       "</div>"
      ],
      "text/plain": [
       "       MAL_ID                              Name Score  \\\n",
       "1393     1535                        Death Note  8.63   \n",
       "7449    16498                Shingeki no Kyojin  8.48   \n",
       "6614    11757                  Sword Art Online  7.25   \n",
       "1574     1735                Naruto: Shippuuden  8.16   \n",
       "3971     5114  Fullmetal Alchemist: Brotherhood  9.19   \n",
       "10451   30276                     One Punch Man  8.57   \n",
       "5975     9919                    Ao no Exorcist  7.59   \n",
       "8646    22319                       Tokyo Ghoul  7.81   \n",
       "1431     1575   Code Geass: Hangyaku no Lelouch  8.72   \n",
       "11185   31964             Boku no Hero Academia  8.11   \n",
       "\n",
       "                                                  Genres  \\\n",
       "1393   Mystery, Police, Psychological, Supernatural, ...   \n",
       "7449   Action, Military, Mystery, Super Power, Drama,...   \n",
       "6614           Action, Game, Adventure, Romance, Fantasy   \n",
       "1574   Action, Adventure, Comedy, Super Power, Martia...   \n",
       "3971   Action, Military, Adventure, Comedy, Drama, Ma...   \n",
       "10451  Action, Sci-Fi, Comedy, Parody, Super Power, S...   \n",
       "5975      Action, Demons, Fantasy, Shounen, Supernatural   \n",
       "8646   Action, Mystery, Horror, Psychological, Supern...   \n",
       "1431   Action, Military, Sci-Fi, Super Power, Drama, ...   \n",
       "11185       Action, Comedy, School, Shounen, Super Power   \n",
       "\n",
       "                              English name               Japanese name Type  \\\n",
       "1393                            Death Note                       デスノート   TV   \n",
       "7449                       Attack on Titan                       進撃の巨人   TV   \n",
       "6614                      Sword Art Online                ソードアート・オンライン   TV   \n",
       "1574                      Naruto:Shippuden                    ナルト- 疾風伝   TV   \n",
       "3971       Fullmetal Alchemist:Brotherhood  鋼の錬金術師 FULLMETAL ALCHEMIST   TV   \n",
       "10451                        One Punch Man                      ワンパンマン   TV   \n",
       "5975                         Blue Exorcist               青の祓魔師(エクソシスト)   TV   \n",
       "8646                           Tokyo Ghoul              東京喰種-トーキョーグール-   TV   \n",
       "1431   Code Geass:Lelouch of the Rebellion             コードギアス 反逆のルルーシュ   TV   \n",
       "11185                     My Hero Academia                 僕のヒーローアカデミア   TV   \n",
       "\n",
       "      Episodes                         Aired    Premiered  ...  Score-10  \\\n",
       "1393        37   Oct 4, 2006 to Jun 27, 2007    Fall 2006  ...  557406.0   \n",
       "7449        25   Apr 7, 2013 to Sep 29, 2013  Spring 2013  ...  470882.0   \n",
       "6614        25   Jul 8, 2012 to Dec 23, 2012  Summer 2012  ...  241049.0   \n",
       "1574       500  Feb 15, 2007 to Mar 23, 2017  Winter 2007  ...  249262.0   \n",
       "3971        64    Apr 5, 2009 to Jul 4, 2010  Spring 2009  ...  714811.0   \n",
       "10451       12   Oct 5, 2015 to Dec 21, 2015    Fall 2015  ...  360187.0   \n",
       "5975        25   Apr 17, 2011 to Oct 2, 2011  Spring 2011  ...   80157.0   \n",
       "8646        12   Jul 4, 2014 to Sep 19, 2014  Summer 2014  ...  190342.0   \n",
       "1431        25   Oct 6, 2006 to Jul 29, 2007    Fall 2006  ...  326710.0   \n",
       "11185       13   Apr 3, 2016 to Jun 26, 2016  Spring 2016  ...  192539.0   \n",
       "\n",
       "        Score-9   Score-8   Score-7   Score-6   Score-5  Score-4  Score-3  \\\n",
       "1393   535252.0  415890.0  201522.0   68577.0   28048.0  10462.0   3692.0   \n",
       "7449   514879.0  459113.0  220228.0   70768.0   31141.0  11805.0   4637.0   \n",
       "6614   236672.0  305386.0  303813.0  188431.0  124819.0  81155.0  44204.0   \n",
       "1574   213677.0  239113.0  175685.0   75970.0   36221.0  15913.0   6661.0   \n",
       "3971   401507.0  199160.0   70045.0   20210.0    9308.0   3222.0   1536.0   \n",
       "10451  465041.0  403832.0  172181.0   47365.0   17873.0   5706.0   2279.0   \n",
       "5975   137344.0  248970.0  240338.0   99008.0   40731.0  13431.0   4567.0   \n",
       "8646   250814.0  348603.0  261579.0  112177.0   51649.0  24805.0  10284.0   \n",
       "1431   309688.0  213516.0   93305.0   31697.0   14686.0   7065.0   3100.0   \n",
       "11185  318675.0  414913.0  253871.0   77961.0   29893.0   9015.0   3664.0   \n",
       "\n",
       "       Score-2  Score-1  \n",
       "1393    2256.0   3586.0  \n",
       "7449    2707.0   4939.0  \n",
       "6614   25371.0  23472.0  \n",
       "1574    3383.0   4245.0  \n",
       "3971    2162.0  16806.0  \n",
       "10451   1448.0   2733.0  \n",
       "5975    1786.0   1448.0  \n",
       "8646    5144.0   4794.0  \n",
       "1431    1630.0   2621.0  \n",
       "11185   1807.0   3129.0  \n",
       "\n",
       "[10 rows x 35 columns]"
      ]
     },
     "execution_count": 89,
     "metadata": {},
     "output_type": "execute_result"
    }
   ],
   "source": [
    "cf_recommend_anime(search('ナルト'))"
   ]
  },
  {
   "cell_type": "code",
   "execution_count": null,
   "metadata": {},
   "outputs": [],
   "source": []
  }
 ],
 "metadata": {
  "accelerator": "TPU",
  "colab": {
   "collapsed_sections": [],
   "machine_shape": "hm",
   "name": "temp1.ipynb",
   "provenance": []
  },
  "kernelspec": {
   "display_name": "Python 3 (ipykernel)",
   "language": "python",
   "name": "python3"
  },
  "language_info": {
   "codemirror_mode": {
    "name": "ipython",
    "version": 3
   },
   "file_extension": ".py",
   "mimetype": "text/x-python",
   "name": "python",
   "nbconvert_exporter": "python",
   "pygments_lexer": "ipython3",
   "version": "3.9.15"
  },
  "vscode": {
   "interpreter": {
    "hash": "b0fa6594d8f4cbf19f97940f81e996739fb7646882a419484c72d19e05852a7e"
   }
  }
 },
 "nbformat": 4,
 "nbformat_minor": 1
}
